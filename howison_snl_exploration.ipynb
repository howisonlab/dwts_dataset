{
 "cells": [
  {
   "cell_type": "code",
   "execution_count": 1,
   "id": "6c84a4d0-685a-4a3d-a9de-840bad018433",
   "metadata": {},
   "outputs": [],
   "source": [
    "import pandas as pd\n",
    "import numpy as np\n",
    "import csv"
   ]
  },
  {
   "cell_type": "markdown",
   "id": "08c94de7-75f4-46e6-aacb-5170c6fb7ae7",
   "metadata": {},
   "source": [
    "# Documentation\n",
    "\n",
    "seasons.csv -- seasons of snl\n",
    "episodes.csv -- episodes of snl   Season has_many Episodes\n",
    "\n",
    "titles.csv -- segments of the show.  Episode has_many Titles. Some are Sketches (have a skid).\n",
    "appearances.csv -- actions appearing in titles (aid, tid, capacity-Cast/Guest).  An appearance might involve an impression or a character.\n",
    "\n",
    "characters.csv -- actors playing characters.  referenced from appearances.csv\n",
    "\n",
    "\n",
    "\n",
    "sketches.csv -- sketch titles.  Not clear how this is connected. It is referenced in titles.csv. A sketch is a title.\n",
    "\n",
    "\n",
    "Derived data:\n",
    "\n",
    "casts.csv -- details about cast members.\n"
   ]
  },
  {
   "cell_type": "code",
   "execution_count": 2,
   "id": "219b4c3a-df52-43c2-80ff-37883a034a46",
   "metadata": {},
   "outputs": [],
   "source": [
    "raw_seasons = pd.read_csv('output/seasons.csv')\n",
    "raw_episodes = pd.read_csv('output/episodes.csv')\n",
    "raw_titles = pd.read_csv('output/titles.csv')\n",
    "raw_appearances = pd.read_csv('output/appearances.csv') \n",
    "# drop charid, impid.\n",
    "raw_actors = pd.read_csv('output/actors.csv')\n",
    "# type seems overdetermined?"
   ]
  },
  {
   "cell_type": "code",
   "execution_count": 3,
   "id": "3402f224-b7f0-464f-8bd7-74984fd6de85",
   "metadata": {},
   "outputs": [],
   "source": [
    "(\n",
    "    raw_seasons\n",
    "    .rename(columns={'sid':'season_id', \n",
    "                     'first_epid': 'first_episode_id',\n",
    "                     'last_epid': 'last_episode_id',\n",
    "                     'n_episodes': 'num_episode_in_season'})\n",
    "    .to_csv('../sat_night_live_dataset/seasons.csv', index = False, quoting=csv.QUOTE_NONNUMERIC)    \n",
    ")"
   ]
  },
  {
   "cell_type": "code",
   "execution_count": 4,
   "id": "30a4f81c-1509-40fa-befc-d4fa941b66a7",
   "metadata": {},
   "outputs": [],
   "source": [
    "(\n",
    "    raw_episodes\n",
    "    .rename(columns = { 'epid': 'episode_id',\n",
    "                       'sid': 'season_id',\n",
    "                       'epno': 'episode_order_in_season',\n",
    "                       'aired': 'aired_at' \n",
    "    })\n",
    "    .reindex(columns = ['episode_id', 'aired_at', 'season_id', 'episode_order_in_season'])\n",
    "    .to_csv('../sat_night_live_dataset/episodes.csv', index = False, quoting=csv.QUOTE_NONNUMERIC)    \n",
    ")"
   ]
  },
  {
   "cell_type": "code",
   "execution_count": 5,
   "id": "5266fe06-c2be-4938-b20e-77b8970d557c",
   "metadata": {},
   "outputs": [],
   "source": [
    "(\n",
    "    raw_titles\n",
    "    .rename(columns = { 'epid': 'episode_id',\n",
    "                        'tid': 'segment_id',\n",
    "                        'order': 'segment_order_in_episode'\n",
    "                      }\n",
    "           )\n",
    "    .drop(columns = ['skid', 'sid']) # redundent\n",
    "    .reindex(columns = ['segment_id', 'name', 'category', 'episode_id', 'segment_order_in_episode'])\n",
    "    .to_csv('../sat_night_live_dataset/segments.csv', index = False, quoting=csv.QUOTE_NONNUMERIC)    \n",
    ")"
   ]
  },
  {
   "cell_type": "code",
   "execution_count": 13,
   "id": "e02657df-7cc7-498a-bcf2-b81eb0a8dc1e",
   "metadata": {},
   "outputs": [],
   "source": [
    "# actors needed below to change actor_name to actor_id.\n",
    "actors = \\\n",
    "(\n",
    "    raw_actors\n",
    "    .rename(columns = { 'aid': 'actor_name'})\n",
    "    .drop(columns = ['url'])\n",
    "    .assign(actor_id = lambda df_: np.arange(df_.shape[0]) + 1) # new primary key for this table\n",
    "    .reindex(columns = ['actor_id', 'actor_name', 'type', 'gender'])\n",
    ")\n",
    "actors.to_csv('../sat_night_live_dataset/actors.csv', index = False, quoting=csv.QUOTE_NONNUMERIC)"
   ]
  },
  {
   "cell_type": "code",
   "execution_count": 14,
   "id": "661eefe9-188b-415e-b9c1-02396d316295",
   "metadata": {},
   "outputs": [],
   "source": [
    "(\n",
    "    raw_appearances\n",
    "    .rename(columns = { 'tid': 'segment_id',\n",
    "                        'aid': 'actor_name',\n",
    "                        'voice': 'is_voice_role'\n",
    "                      }\n",
    "           )\n",
    "    .drop(columns = ['sid', 'charid', 'impid', 'epid']) # redundant or too complicated\n",
    "    .assign(appearance_id = lambda df_: np.arange(df_.shape[0]) + 1)  # new primary key for this table\n",
    "    # make the relationship to actors go via actor_id and not actor_name\n",
    "    .merge(actors, how = \"left\", on = 'actor_name')\n",
    "    .drop(columns = ['type', 'gender', 'actor_name'])\n",
    "    .reindex(columns = ['appearance_id', 'actor_id', 'role', 'is_voice_role', 'segment_id'])\n",
    "    .to_csv('../sat_night_live_dataset/appearances.csv', index = False, quoting=csv.QUOTE_NONNUMERIC)\n",
    ")"
   ]
  },
  {
   "cell_type": "code",
   "execution_count": null,
   "id": "9eff9e76-a07e-4cf5-8b78-61486f55189b",
   "metadata": {},
   "outputs": [],
   "source": []
  }
 ],
 "metadata": {
  "kernelspec": {
   "display_name": "Python 3 (ipykernel)",
   "language": "python",
   "name": "python3"
  },
  "language_info": {
   "codemirror_mode": {
    "name": "ipython",
    "version": 3
   },
   "file_extension": ".py",
   "mimetype": "text/x-python",
   "name": "python",
   "nbconvert_exporter": "python",
   "pygments_lexer": "ipython3",
   "version": "3.10.5"
  }
 },
 "nbformat": 4,
 "nbformat_minor": 5
}
