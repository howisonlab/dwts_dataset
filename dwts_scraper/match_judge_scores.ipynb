{
 "cells": [
  {
   "cell_type": "code",
   "execution_count": null,
   "id": "48b53de1-af62-4338-85ee-08579854f1df",
   "metadata": {},
   "outputs": [],
   "source": [
    "import pandas as pd\n",
    "import json\n",
    "import numpy as np\n",
    "\n",
    "pd.set_option('display.max_columns', None)\n",
    "pd.set_option('display.max_rows', None)"
   ]
  },
  {
   "cell_type": "code",
   "execution_count": null,
   "id": "280763f5-42d9-47b9-866d-b603f335a5d5",
   "metadata": {},
   "outputs": [],
   "source": [
    "df = pd.read_json('dwts_scraper/scores.json')\n",
    "df['dance_id'] = np.arange(df.shape[0])\n",
    "\n",
    "df.drop( df.query(\" couple== ['Dance-off','Dance Duel'] \").index, inplace = True)"
   ]
  },
  {
   "cell_type": "code",
   "execution_count": null,
   "id": "d42263f7-e188-461f-a806-7fa79daacf99",
   "metadata": {},
   "outputs": [],
   "source": [
    "df['judge'] = df['judge_phrase'].str.split(\",\", expand = False)"
   ]
  },
  {
   "cell_type": "code",
   "execution_count": null,
   "id": "26da76d0-c681-4c4c-ba35-825f775e7ceb",
   "metadata": {},
   "outputs": [],
   "source": [
    "# Some weeks (e.g., random have a `score` column instead of a `scores` column.  Rename that.\n",
    "\n",
    "# https://en.wikipedia.org/wiki/Dancing_with_the_Stars_(American_season_20)#Weekly_scores Week 5.\n",
    "# https://en.wikipedia.org/wiki/Dancing_with_the_Stars_(American_season_17)#Weekly_scores Week 6.\n",
    "\n",
    "\n",
    "# https://stackoverflow.com/questions/34989341/how-to-remove-nan-value-while-combining-two-column-in-panda-data-frame\n",
    "df['scores'] = df['scores'].fillna(df['score'])"
   ]
  },
  {
   "cell_type": "code",
   "execution_count": null,
   "id": "772934a5-5079-473b-b51d-81b34427e5e6",
   "metadata": {},
   "outputs": [],
   "source": [
    "df.columns"
   ]
  },
  {
   "cell_type": "code",
   "execution_count": null,
   "id": "1eaea760-460d-46eb-98f9-9857e529a83b",
   "metadata": {},
   "outputs": [],
   "source": [
    "# https://en.wikipedia.org/wiki/Dancing_with_the_Stars_(American_season_9)#Weekly_scores Week 6 has a 'ranked order' score dance.\n",
    "# Dance Offs are also a problem, some are separate tables, some are bottom rows in tables.\n",
    "\n",
    "\n",
    "\n",
    "\n"
   ]
  },
  {
   "cell_type": "code",
   "execution_count": null,
   "id": "b81827ec-f2e4-487f-a861-e54089d9614a",
   "metadata": {},
   "outputs": [],
   "source": [
    "# Some weeks have a technical score/performance score. but no scores column.\n",
    "\n",
    "# https://en.wikipedia.org/wiki/Dancing_with_the_Stars_(American_season_11)#Weekly_scores Week 4\n",
    "# https://en.wikipedia.org/wiki/Dancing_with_the_Stars_(American_season_10)#Weekly_scores Week 4\n",
    "\n",
    "# double_score = df[df['technical_score'].notna()]\n",
    "\n",
    "# double_score[double_score.columns[~double_score.isnull().any()]]"
   ]
  },
  {
   "cell_type": "code",
   "execution_count": null,
   "id": "d05c50f7-51f5-469c-9a0d-d642755c3401",
   "metadata": {},
   "outputs": [],
   "source": [
    "# Quite a few rows from tables that shouldn't be parsed (after end of week shows).  e.g. tributes.\n",
    "# Either fix in parsing or drop here.\n",
    "\n",
    "df.dropna(subset=['dance'], inplace=True)\n",
    "\n",
    "# df[df['dance'].isna()]\n",
    "\n"
   ]
  },
  {
   "cell_type": "code",
   "execution_count": null,
   "id": "8ed499af-6ac3-4938-b7e2-255d68f663dc",
   "metadata": {},
   "outputs": [],
   "source": [
    "# Some couple columns have additional info which is in parens in the column. This creates an NA couple column.\n",
    "\n",
    "pattern = r'(?P<couple_alone>.*?)\\((?P<additional>.*?)\\)$'\n",
    "\n",
    "# e.g., https://en.wikipedia.org/wiki/Dancing_with_the_Stars_(American_season_27) Week 4.  Couple (Trio Dance Partner)\n",
    "df[['couple_alone','trio_partner']] = df['couple_trio_dance_partner_'].str.extract(pattern)\n",
    "df['couple'] = df['couple'].fillna(df['couple_alone'])\n",
    "df.drop(columns='couple_alone', inplace=True)\n",
    "\n",
    "# https://en.wikipedia.org/wiki/Dancing_with_the_Stars_(American_season_16) Week 5 (Professionals).\n",
    "df[['couple_alone','additional_dancers']] = df['couple_professionals_'].str.extract(pattern)\n",
    "df['couple'] = df['couple'].fillna(df['couple_alone'])\n",
    "df.drop(columns='couple_alone', inplace=True)\n",
    "\n",
    "# couple_team_up_judge_ from https://en.wikipedia.org/wiki/Dancing_with_the_Stars_(American_season_22)#Week_8:_Judges'_Team-up_Challenge\n",
    "# Some of These are multi-couple dances, with a judge listed i the couple column, and then an X for the score that the judge that coached the team would have given.\n",
    "# but others are regular dances (just a different column name)\n",
    "df['couple'] = df['couple'].fillna(df['couple_team_up_judge_'])\n",
    "\n",
    "# couple_judge_  from https://en.wikipedia.org/wiki/Dancing_with_the_Stars_(American_season_11)#Week_10:_Finals is much simpler (just a judge chosen dance).\n",
    "df[['couple_alone','judge_choosing_dance']] = df['couple_judge_'].str.extract(pattern)\n",
    "df['couple'] = df['couple'].fillna(df['couple_alone'])\n",
    "df.drop(columns='couple_alone', inplace=True)\n",
    "\n",
    "# One remains from the couple_judge_ due to a substitution which then didn't have a judge (so the regex above doesn't catch it)\n",
    "# 2341 where the couple_judge_ is Nastia & Sasha[a]\n",
    "df['couple'] = df['couple'].fillna(df['couple_judge_'])\n",
    "# df.iloc[2341]\n",
    "\n",
    "df.drop(columns=['couple_trio_dance_partner_', 'couple_professionals_', 'couple_judge_'], inplace=True)\n",
    "\n",
    "# df[df['couple'].isna()]"
   ]
  },
  {
   "cell_type": "code",
   "execution_count": null,
   "id": "71af2ceb-44c2-4d00-b588-290686a6cfc9",
   "metadata": {},
   "outputs": [],
   "source": [
    "# Some have technical_score and performance_score.\n",
    "# add a score_type column.\n",
    "# split these out, going to be two rows, each with scores column and a score_type column.\n",
    "\n",
    "double_scores = ( df[df['technical_score'].notna()]\n",
    "                  .drop(columns=\"scores\")\n",
    "                  .dropna(axis = 1, how = \"all\") )\n",
    "\n",
    "val_cols = ['technical_score','performance_score']\n",
    "id_cols = [ele for ele in double_scores if ele not in val_cols]\n",
    "# now get two rows per\n",
    "double_scores = double_scores.melt(id_vars = id_cols, value_vars = val_cols, value_name = \"scores\", var_name = \"score_type\")\n",
    "\n",
    "single_scores = df.drop(df.index[df['technical_score'].notna()])\n",
    "# make others be score_type\n",
    "single_scores['score_type'] = \"single_score\"\n",
    "single_scores.drop(columns=['technical_score','performance_score'], inplace=True)\n",
    "\n",
    "df_score_type = pd.concat([double_scores, single_scores])\n"
   ]
  },
  {
   "cell_type": "code",
   "execution_count": null,
   "id": "effc8368-49af-4f3f-b24b-df2a2b51c337",
   "metadata": {},
   "outputs": [],
   "source": [
    "# df_score_type[df_score_type['score_type'].isna()]"
   ]
  },
  {
   "cell_type": "code",
   "execution_count": null,
   "id": "40fdb70d-bbe1-486c-b33e-465b877a108d",
   "metadata": {},
   "outputs": [],
   "source": [
    "df_score_type[['total_score','indiv_scores']] = df_score_type['scores'].str.extract(r'(?P<total_score>\\d+)\\s\\((?P<indiv_scores>.*)\\)')\n",
    "\n",
    "# new_cols['judge_score_list'] = new_cols['indiv_scores'].str.split(\",\")\n",
    "\n",
    "\n",
    "# df_new = pd.concat([df, new_cols], axis = 1)"
   ]
  },
  {
   "cell_type": "code",
   "execution_count": null,
   "id": "729f0cb7-0647-4760-8e01-b8c635727b6d",
   "metadata": {},
   "outputs": [],
   "source": [
    "# song_cols = df['music'].str.extract(r'\"(?P<song_name>.*)\"—(?P<song_artist>.*)$')\n",
    "# song_cols\n",
    "# df[\"music\"].str.split(\" / \") Some music columns have multiples."
   ]
  },
  {
   "cell_type": "code",
   "execution_count": null,
   "id": "97417bf0-cf82-4f36-b40e-6e5a79547687",
   "metadata": {},
   "outputs": [],
   "source": []
  },
  {
   "cell_type": "code",
   "execution_count": null,
   "id": "bf8f7ee4-61f7-4183-b5b9-f6720e6dd870",
   "metadata": {},
   "outputs": [],
   "source": [
    "\n",
    "\n",
    "# most are multi couple dances, with ranking scores.\n",
    "\n",
    "df_score_type[\"couple_list\"] = df_score_type[\"couple\"].str.split(\"---\")\n",
    "df_score_type[\"couple_count\"] = df_score_type[\"couple_list\"].apply(len)\n",
    "# a few have a total score, but not an individual score.  e.g., s9w10."
   ]
  },
  {
   "cell_type": "code",
   "execution_count": null,
   "id": "f04efea1-fdf5-4334-aa26-573b2e42169e",
   "metadata": {},
   "outputs": [],
   "source": [
    "df_score_type[df_score_type['total_score'].isna()]"
   ]
  },
  {
   "cell_type": "code",
   "execution_count": null,
   "id": "37683ff5-da9c-4a5f-b288-c94271d5b894",
   "metadata": {},
   "outputs": [],
   "source": [
    "df_final = ( df_new\n",
    "              #  .head(5)\n",
    "               .explode(['judge','judge_score_list'])\n",
    "               .rename(columns={'judge_score_list': 'judge_score'})\n",
    "               .drop(columns=['indiv_scores','judge_phrase','scores'])\n",
    "               .assign(judge = lambda df: df.judge.str.strip(\" .\"))\n",
    ")"
   ]
  },
  {
   "cell_type": "code",
   "execution_count": null,
   "id": "5c55a715-a6c3-45fd-aa60-e5f8dac4a406",
   "metadata": {},
   "outputs": [],
   "source": [
    "all_cols = df_final.columns.values.tolist()\n",
    "\n",
    "front_cols = [ 'dance_id','season','week','couple','dance','music','judge','judge_score','total_score' ]\n",
    "\n",
    "remaining_cols = [ele for ele in all_cols if ele not in front_cols]\n",
    "\n",
    "reordered = front_cols + remaining_cols"
   ]
  },
  {
   "cell_type": "code",
   "execution_count": null,
   "id": "527f9ce3-45fc-4180-aa9a-2bef71a7bc35",
   "metadata": {},
   "outputs": [],
   "source": [
    "df_final = df_final[reordered]"
   ]
  },
  {
   "cell_type": "code",
   "execution_count": null,
   "id": "c78c6077-3deb-46cf-8eb3-a37f0b0ca3f5",
   "metadata": {},
   "outputs": [],
   "source": [
    "df_final"
   ]
  },
  {
   "cell_type": "code",
   "execution_count": null,
   "id": "e3510476-1954-4158-9905-b3e7ab4619d4",
   "metadata": {},
   "outputs": [],
   "source": []
  }
 ],
 "metadata": {
  "kernelspec": {
   "display_name": "Python 3 (ipykernel)",
   "language": "python",
   "name": "python3"
  },
  "language_info": {
   "codemirror_mode": {
    "name": "ipython",
    "version": 3
   },
   "file_extension": ".py",
   "mimetype": "text/x-python",
   "name": "python",
   "nbconvert_exporter": "python",
   "pygments_lexer": "ipython3",
   "version": "3.10.5"
  }
 },
 "nbformat": 4,
 "nbformat_minor": 5
}
