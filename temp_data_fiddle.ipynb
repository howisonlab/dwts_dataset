{
 "cells": [
  {
   "cell_type": "code",
   "execution_count": null,
   "id": "e89ee726-75a8-405a-a88a-412ccf888752",
   "metadata": {},
   "outputs": [],
   "source": [
    "library(stats)"
   ]
  },
  {
   "cell_type": "code",
   "execution_count": null,
   "id": "393fe5eb-178b-4c4c-93d3-f10b47b7d1ea",
   "metadata": {},
   "outputs": [],
   "source": [
    "source('http://www.medicine.mcgill.ca/epidemiology/joseph/pbelisle/R/GammaParmsFromQuantiles.R')"
   ]
  },
  {
   "cell_type": "code",
   "execution_count": null,
   "id": "32495dcf-1404-482a-8a8c-035ea0ba3b99",
   "metadata": {},
   "outputs": [],
   "source": [
    "gamma.parms.from.quantiles(q=c(28,98), p=c(0.05,0.95), plot=T)"
   ]
  },
  {
   "cell_type": "code",
   "execution_count": null,
   "id": "896c832c-5d99-42e4-af0c-f5b828c89c8d",
   "metadata": {},
   "outputs": [],
   "source": [
    "install.packages(\"GSODR\")"
   ]
  },
  {
   "cell_type": "code",
   "execution_count": 139,
   "id": "7501c7ac-6be2-4474-a8f7-7c7a4e5d8596",
   "metadata": {},
   "outputs": [
    {
     "name": "stderr",
     "output_type": "stream",
     "text": [
      "also installing the dependencies ‘dotCall64’, ‘gridExtra’, ‘operator.tools’, ‘strucchange’, ‘sandwich’, ‘spam’, ‘viridis’, ‘maps’, ‘boot’, ‘checkmate’, ‘Formula’, ‘formula.tools’, ‘terra’, ‘chron’, ‘date’, ‘vars’, ‘fields’, ‘GenSA’, ‘Kendall’, ‘metR’, ‘pls’, ‘raster’, ‘RMAWGEN’, ‘sp’, ‘XML’\n",
      "\n",
      "\n",
      "Warning message in install.packages(c(\"tidygeocoder\", \"janitor\", \"weathermetrics\", :\n",
      "“installation of package ‘terra’ had non-zero exit status”\n",
      "Warning message in install.packages(c(\"tidygeocoder\", \"janitor\", \"weathermetrics\", :\n",
      "“installation of package ‘raster’ had non-zero exit status”\n",
      "Warning message in install.packages(c(\"tidygeocoder\", \"janitor\", \"weathermetrics\", :\n",
      "“installation of package ‘metR’ had non-zero exit status”\n",
      "Warning message in install.packages(c(\"tidygeocoder\", \"janitor\", \"weathermetrics\", :\n",
      "“installation of package ‘RMAWGEN’ had non-zero exit status”\n",
      "Warning message in install.packages(c(\"tidygeocoder\", \"janitor\", \"weathermetrics\", :\n",
      "“installation of package ‘chillR’ had non-zero exit status”\n",
      "Updating HTML index of packages in '.Library'\n",
      "\n",
      "Making 'packages.html' ...\n",
      " done\n",
      "\n"
     ]
    }
   ],
   "source": [
    "install.packages(c('tidygeocoder','janitor','weathermetrics','chillR'))"
   ]
  },
  {
   "cell_type": "code",
   "execution_count": null,
   "id": "7bc290b0-fc86-43f4-952a-5e08434b2513",
   "metadata": {},
   "outputs": [],
   "source": [
    "require(tidygeocoder)\n",
    "require(tidyverse)\n",
    "require(GSODR)\n",
    "require(weathermetrics)\n",
    "\n",
    "address <- tibble::tribble(\n",
    "~name,                  ~addr,\n",
    "\"Norwood Rd\", \"1310 Norwood Rd, Austin, TX, 78722\"                             \n",
    ") %>% \n",
    "  geocode(addr, method = 'osm', lat = latitude , long = longitude) %>%\n",
    "  mutate(nearest_stations = map2(latitude, longitude, nearest_stations, 10))\n",
    "         \n",
    "\n"
   ]
  },
  {
   "cell_type": "code",
   "execution_count": null,
   "id": "2c256ece-5dd9-450c-b748-feab5281e13a",
   "metadata": {},
   "outputs": [],
   "source": [
    "require(weathermetrics)"
   ]
  },
  {
   "cell_type": "code",
   "execution_count": null,
   "id": "a9f3c096-1876-40d1-82d3-1e53034038da",
   "metadata": {},
   "outputs": [],
   "source": [
    "my_years = 2010:2022\n",
    "\n",
    "address_gsod <- address %>%\n",
    "  mutate(target_station = map_chr(nearest_stations, pluck, 2)) %>%\n",
    "  mutate(gsod = map(target_station, get_GSOD, years = my_years))\n",
    "    "
   ]
  },
  {
   "cell_type": "code",
   "execution_count": null,
   "id": "793ad54a-4857-48ef-9304-b868d0963923",
   "metadata": {},
   "outputs": [],
   "source": [
    "glimpse(address_gsod)"
   ]
  },
  {
   "cell_type": "code",
   "execution_count": null,
   "id": "e791ca8e-0ab0-4ec9-b59a-071754fe94d6",
   "metadata": {},
   "outputs": [],
   "source": []
  },
  {
   "cell_type": "code",
   "execution_count": null,
   "id": "ec49223a-03be-42a2-985e-7f0df91fcd89",
   "metadata": {},
   "outputs": [],
   "source": [
    "norwood_temps <- address_gsod %>% pluck(\"gsod\",1) %>%\n",
    "  janitor::clean_names() %>%\n",
    "  select(date = yearmoda, max, min) %>%\n",
    "  pivot_longer(cols = c(max, min), names_to = \"measurement\") %>%\n",
    "  mutate(value = weathermetrics::convert_temperature(value, old_metric = \"c\", new_metric = \"f\"))"
   ]
  },
  {
   "cell_type": "code",
   "execution_count": null,
   "id": "5ce900c3-0b8e-48b0-a654-1c3cba701c94",
   "metadata": {},
   "outputs": [],
   "source": [
    "temp_plot <- norwood_temps %>%\n",
    "  ggplot(aes(x = date, y = value, color = measurement)) +\n",
    "         geom_line()"
   ]
  },
  {
   "cell_type": "code",
   "execution_count": null,
   "id": "8e023961-0871-4aef-96aa-34c4bd732d4e",
   "metadata": {},
   "outputs": [],
   "source": [
    "temp_plot +  \n",
    "  theme(legend.position = \"none\") + \n",
    "  scale_x_date(date_breaks = \"1 year\", date_labels = \"%Y\", minor_breaks = NULL) +\n",
    "  scale_y_continuous(breaks = seq(0,120, by = 10))"
   ]
  },
  {
   "cell_type": "code",
   "execution_count": null,
   "id": "b865c500-b08c-4feb-bc63-3223e63bb5b6",
   "metadata": {},
   "outputs": [],
   "source": []
  },
  {
   "cell_type": "code",
   "execution_count": null,
   "id": "427d0b25-e6cd-4b87-9f55-0988e82ca7ce",
   "metadata": {},
   "outputs": [],
   "source": [
    "mins <- norwood_temps %>%\n",
    "  mutate(month_day = date %>% strftime(\"%m-%d\")) %>%\n",
    "  group_by(month_day, measurement) %>%\n",
    "  slice_min(order_by = value, n = 1) %>%\n",
    "  add_column(group_extreme = \"ymin\")\n",
    "\n",
    "maxes <- norwood_temps %>%\n",
    "  mutate(month_day = date %>% strftime(\"%m-%d\")) %>%\n",
    "  group_by(month_day, measurement) %>%\n",
    "  slice_max(order_by = value, n = 1) %>%\n",
    "  add_column(group_extreme = \"ymax\")"
   ]
  },
  {
   "cell_type": "code",
   "execution_count": null,
   "id": "44507e8f-2411-41ff-b690-5d5d1d1daf58",
   "metadata": {},
   "outputs": [],
   "source": [
    "norwood_summary <- norwood_temps %>%\n",
    "  mutate(month_day = date %>% strftime(\"%m-%d\")) %>%\n",
    "  group_by(month_day, measurement) %>% \n",
    "  summarize(group_mean = mean(value),\n",
    "            group_max = max(value),\n",
    "            group_min = min(value))"
   ]
  },
  {
   "cell_type": "code",
   "execution_count": null,
   "id": "0157faa8-8578-4274-ab7f-803e2db6ae75",
   "metadata": {},
   "outputs": [],
   "source": [
    "norwood_summary %>%\n",
    "  mutate(pseudo_date = paste0(\"2020\", month_day) %>% lubridate::ymd()) %>%\n",
    "  ggplot(aes(x = pseudo_date, fill = measurement, group = measurement)) + \n",
    "  geom_ribbon(aes(ymin = group_min, ymax = group_max)) +\n",
    "  geom_line(aes(y = group_mean)) + \n",
    "  scale_x_date(date_breaks = \"1 month\", date_labels = \"%b\", minor_breaks = NULL, name = \"Month\") +\n",
    "  scale_y_continuous(breaks = seq(0,120, by = 10))"
   ]
  },
  {
   "cell_type": "code",
   "execution_count": 140,
   "id": "3dc400f1-3ec1-457b-a7b0-c02e744f9a20",
   "metadata": {},
   "outputs": [
    {
     "name": "stderr",
     "output_type": "stream",
     "text": [
      "Loading required package: chillR\n",
      "\n",
      "Warning message in library(package, lib.loc = lib.loc, character.only = TRUE, logical.return = TRUE, :\n",
      "“there is no package called ‘chillR’”\n"
     ]
    }
   ],
   "source": [
    "require(chillR)"
   ]
  }
 ],
 "metadata": {
  "kernelspec": {
   "display_name": "R",
   "language": "R",
   "name": "ir"
  },
  "language_info": {
   "codemirror_mode": "r",
   "file_extension": ".r",
   "mimetype": "text/x-r-source",
   "name": "R",
   "pygments_lexer": "r",
   "version": "4.1.3"
  }
 },
 "nbformat": 4,
 "nbformat_minor": 5
}
