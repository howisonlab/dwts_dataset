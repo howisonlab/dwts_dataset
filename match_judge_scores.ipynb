{
 "cells": [
  {
   "cell_type": "code",
   "execution_count": 11,
   "id": "48b53de1-af62-4338-85ee-08579854f1df",
   "metadata": {},
   "outputs": [],
   "source": [
    "import pandas as pd\n",
    "import json"
   ]
  },
  {
   "cell_type": "code",
   "execution_count": 17,
   "id": "d4946cbd-4eaf-437e-92c1-59787b5a17d8",
   "metadata": {},
   "outputs": [],
   "source": [
    "with open('dwts_scraper/scores.json') as f:\n",
    "    dwts = json.load(f)"
   ]
  },
  {
   "cell_type": "code",
   "execution_count": 53,
   "id": "dd15a948-e14e-4de0-895d-ed6b3ce691fa",
   "metadata": {},
   "outputs": [],
   "source": [
    "df_dwts = pd.read_json('dwts_scraper/scores.json')"
   ]
  },
  {
   "cell_type": "code",
   "execution_count": null,
   "id": "fcd6cde9-02a0-445d-8b25-229c10e62777",
   "metadata": {},
   "outputs": [],
   "source": []
  },
  {
   "cell_type": "code",
   "execution_count": 54,
   "id": "d42263f7-e188-461f-a806-7fa79daacf99",
   "metadata": {},
   "outputs": [],
   "source": [
    "df_dwts['judges'] = df_dwts['judge_phrase'].str.split(\",\", n = 1, expand = False)"
   ]
  },
  {
   "cell_type": "code",
   "execution_count": 26,
   "id": "b5948d8f-2604-4d7c-a515-840dc5739659",
   "metadata": {},
   "outputs": [
    {
     "data": {
      "text/plain": [
       "0          18 (7, 5, 6)\n",
       "1          19 (6, 7, 6)\n",
       "2          18 (6, 6, 6)\n",
       "3          22 (7, 8, 7)\n",
       "4          21 (7, 7, 7)\n",
       "             ...       \n",
       "2886    30 (10, 10, 10)\n",
       "2887    30 (10, 10, 10)\n",
       "2888    30 (10, 10, 10)\n",
       "2889    30 (10, 10, 10)\n",
       "2890    30 (10, 10, 10)\n",
       "Name: scores, Length: 2891, dtype: object"
      ]
     },
     "execution_count": 26,
     "metadata": {},
     "output_type": "execute_result"
    }
   ],
   "source": [
    "df_dwts['scores']"
   ]
  },
  {
   "cell_type": "code",
   "execution_count": 55,
   "id": "40fdb70d-bbe1-486c-b33e-465b877a108d",
   "metadata": {},
   "outputs": [
    {
     "data": {
      "text/html": [
       "<div>\n",
       "<style scoped>\n",
       "    .dataframe tbody tr th:only-of-type {\n",
       "        vertical-align: middle;\n",
       "    }\n",
       "\n",
       "    .dataframe tbody tr th {\n",
       "        vertical-align: top;\n",
       "    }\n",
       "\n",
       "    .dataframe thead th {\n",
       "        text-align: right;\n",
       "    }\n",
       "</style>\n",
       "<table border=\"1\" class=\"dataframe\">\n",
       "  <thead>\n",
       "    <tr style=\"text-align: right;\">\n",
       "      <th></th>\n",
       "      <th>total_score</th>\n",
       "      <th>indiv_scores</th>\n",
       "      <th>judge_score_list</th>\n",
       "    </tr>\n",
       "  </thead>\n",
       "  <tbody>\n",
       "    <tr>\n",
       "      <th>0</th>\n",
       "      <td>18</td>\n",
       "      <td>7, 5, 6</td>\n",
       "      <td>[7,  5,  6]</td>\n",
       "    </tr>\n",
       "    <tr>\n",
       "      <th>1</th>\n",
       "      <td>19</td>\n",
       "      <td>6, 7, 6</td>\n",
       "      <td>[6,  7,  6]</td>\n",
       "    </tr>\n",
       "    <tr>\n",
       "      <th>2</th>\n",
       "      <td>18</td>\n",
       "      <td>6, 6, 6</td>\n",
       "      <td>[6,  6,  6]</td>\n",
       "    </tr>\n",
       "    <tr>\n",
       "      <th>3</th>\n",
       "      <td>22</td>\n",
       "      <td>7, 8, 7</td>\n",
       "      <td>[7,  8,  7]</td>\n",
       "    </tr>\n",
       "    <tr>\n",
       "      <th>4</th>\n",
       "      <td>21</td>\n",
       "      <td>7, 7, 7</td>\n",
       "      <td>[7,  7,  7]</td>\n",
       "    </tr>\n",
       "    <tr>\n",
       "      <th>...</th>\n",
       "      <td>...</td>\n",
       "      <td>...</td>\n",
       "      <td>...</td>\n",
       "    </tr>\n",
       "    <tr>\n",
       "      <th>2886</th>\n",
       "      <td>30</td>\n",
       "      <td>10, 10, 10</td>\n",
       "      <td>[10,  10,  10]</td>\n",
       "    </tr>\n",
       "    <tr>\n",
       "      <th>2887</th>\n",
       "      <td>30</td>\n",
       "      <td>10, 10, 10</td>\n",
       "      <td>[10,  10,  10]</td>\n",
       "    </tr>\n",
       "    <tr>\n",
       "      <th>2888</th>\n",
       "      <td>30</td>\n",
       "      <td>10, 10, 10</td>\n",
       "      <td>[10,  10,  10]</td>\n",
       "    </tr>\n",
       "    <tr>\n",
       "      <th>2889</th>\n",
       "      <td>30</td>\n",
       "      <td>10, 10, 10</td>\n",
       "      <td>[10,  10,  10]</td>\n",
       "    </tr>\n",
       "    <tr>\n",
       "      <th>2890</th>\n",
       "      <td>30</td>\n",
       "      <td>10, 10, 10</td>\n",
       "      <td>[10,  10,  10]</td>\n",
       "    </tr>\n",
       "  </tbody>\n",
       "</table>\n",
       "<p>2891 rows × 3 columns</p>\n",
       "</div>"
      ],
      "text/plain": [
       "     total_score indiv_scores judge_score_list\n",
       "0             18      7, 5, 6      [7,  5,  6]\n",
       "1             19      6, 7, 6      [6,  7,  6]\n",
       "2             18      6, 6, 6      [6,  6,  6]\n",
       "3             22      7, 8, 7      [7,  8,  7]\n",
       "4             21      7, 7, 7      [7,  7,  7]\n",
       "...          ...          ...              ...\n",
       "2886          30   10, 10, 10   [10,  10,  10]\n",
       "2887          30   10, 10, 10   [10,  10,  10]\n",
       "2888          30   10, 10, 10   [10,  10,  10]\n",
       "2889          30   10, 10, 10   [10,  10,  10]\n",
       "2890          30   10, 10, 10   [10,  10,  10]\n",
       "\n",
       "[2891 rows x 3 columns]"
      ]
     },
     "execution_count": 55,
     "metadata": {},
     "output_type": "execute_result"
    }
   ],
   "source": [
    "new_cols = df_dwts['scores'].str.extract(r'(?P<total_score>\\d+)\\s\\((?P<indiv_scores>.*)\\)$')\n",
    "new_cols['judge_score_list'] = new_cols['indiv_scores'].str.split(\",\")\n",
    "new_cols"
   ]
  },
  {
   "cell_type": "code",
   "execution_count": 56,
   "id": "bf8f7ee4-61f7-4183-b5b9-f6720e6dd870",
   "metadata": {},
   "outputs": [],
   "source": [
    "df_dwts_new = pd.concat([df_dwts, new_cols], axis = 1)"
   ]
  },
  {
   "cell_type": "code",
   "execution_count": 57,
   "id": "2be61963-3d34-498b-933f-8713a5a1bada",
   "metadata": {},
   "outputs": [
    {
     "data": {
      "text/html": [
       "<div>\n",
       "<style scoped>\n",
       "    .dataframe tbody tr th:only-of-type {\n",
       "        vertical-align: middle;\n",
       "    }\n",
       "\n",
       "    .dataframe tbody tr th {\n",
       "        vertical-align: top;\n",
       "    }\n",
       "\n",
       "    .dataframe thead th {\n",
       "        text-align: right;\n",
       "    }\n",
       "</style>\n",
       "<table border=\"1\" class=\"dataframe\">\n",
       "  <thead>\n",
       "    <tr style=\"text-align: right;\">\n",
       "      <th></th>\n",
       "      <th>couple</th>\n",
       "      <th>scores</th>\n",
       "      <th>dance</th>\n",
       "      <th>music</th>\n",
       "      <th>result</th>\n",
       "      <th>season</th>\n",
       "      <th>week</th>\n",
       "      <th>judge_phrase</th>\n",
       "      <th>tv_show</th>\n",
       "      <th>score</th>\n",
       "      <th>...</th>\n",
       "      <th>grease_music</th>\n",
       "      <th>horror_film_show</th>\n",
       "      <th>queen_music</th>\n",
       "      <th>unnamed_5</th>\n",
       "      <th>janet_jackson_music</th>\n",
       "      <th>villain</th>\n",
       "      <th>judges</th>\n",
       "      <th>total_score</th>\n",
       "      <th>indiv_scores</th>\n",
       "      <th>judge_score_list</th>\n",
       "    </tr>\n",
       "  </thead>\n",
       "  <tbody>\n",
       "    <tr>\n",
       "      <th>0</th>\n",
       "      <td>George &amp; Edyta</td>\n",
       "      <td>18 (7, 5, 6)</td>\n",
       "      <td>Cha-cha-cha</td>\n",
       "      <td>\"Oye Como Va\"—Santana</td>\n",
       "      <td>Safe</td>\n",
       "      <td>2</td>\n",
       "      <td>Week 1</td>\n",
       "      <td>Carrie Ann Inaba, Len Goodman, Bruno Tonioli.</td>\n",
       "      <td>NaN</td>\n",
       "      <td>NaN</td>\n",
       "      <td>...</td>\n",
       "      <td>NaN</td>\n",
       "      <td>NaN</td>\n",
       "      <td>NaN</td>\n",
       "      <td>NaN</td>\n",
       "      <td>NaN</td>\n",
       "      <td>NaN</td>\n",
       "      <td>[ Carrie Ann Inaba,  Len Goodman, Bruno Tonioli.]</td>\n",
       "      <td>18</td>\n",
       "      <td>7, 5, 6</td>\n",
       "      <td>[7,  5,  6]</td>\n",
       "    </tr>\n",
       "  </tbody>\n",
       "</table>\n",
       "<p>1 rows × 52 columns</p>\n",
       "</div>"
      ],
      "text/plain": [
       "           couple        scores        dance                  music result  \\\n",
       "0  George & Edyta  18 (7, 5, 6)  Cha-cha-cha  \"Oye Como Va\"—Santana   Safe   \n",
       "\n",
       "   season    week                                    judge_phrase tv_show  \\\n",
       "0       2  Week 1   Carrie Ann Inaba, Len Goodman, Bruno Tonioli.     NaN   \n",
       "\n",
       "  score  ... grease_music horror_film_show queen_music unnamed_5  \\\n",
       "0   NaN  ...          NaN              NaN         NaN       NaN   \n",
       "\n",
       "  janet_jackson_music villain  \\\n",
       "0                 NaN     NaN   \n",
       "\n",
       "                                              judges total_score indiv_scores  \\\n",
       "0  [ Carrie Ann Inaba,  Len Goodman, Bruno Tonioli.]          18      7, 5, 6   \n",
       "\n",
       "  judge_score_list  \n",
       "0      [7,  5,  6]  \n",
       "\n",
       "[1 rows x 52 columns]"
      ]
     },
     "execution_count": 57,
     "metadata": {},
     "output_type": "execute_result"
    }
   ],
   "source": [
    "df_dwts_new.head(1)"
   ]
  },
  {
   "cell_type": "code",
   "execution_count": 58,
   "id": "37683ff5-da9c-4a5f-b288-c94271d5b894",
   "metadata": {},
   "outputs": [
    {
     "ename": "ValueError",
     "evalue": "columns must have matching element counts",
     "output_type": "error",
     "traceback": [
      "\u001b[0;31m---------------------------------------------------------------------------\u001b[0m",
      "\u001b[0;31mValueError\u001b[0m                                Traceback (most recent call last)",
      "Input \u001b[0;32mIn [58]\u001b[0m, in \u001b[0;36m<cell line: 1>\u001b[0;34m()\u001b[0m\n\u001b[0;32m----> 1\u001b[0m \u001b[43mdf_dwts_new\u001b[49m\u001b[38;5;241;43m.\u001b[39;49m\u001b[43mhead\u001b[49m\u001b[43m(\u001b[49m\u001b[38;5;241;43m1\u001b[39;49m\u001b[43m)\u001b[49m\u001b[38;5;241;43m.\u001b[39;49m\u001b[43mexplode\u001b[49m\u001b[43m(\u001b[49m\u001b[43m[\u001b[49m\u001b[38;5;124;43m'\u001b[39;49m\u001b[38;5;124;43mjudges\u001b[39;49m\u001b[38;5;124;43m'\u001b[39;49m\u001b[43m,\u001b[49m\u001b[38;5;124;43m'\u001b[39;49m\u001b[38;5;124;43mjudge_score_list\u001b[39;49m\u001b[38;5;124;43m'\u001b[39;49m\u001b[43m]\u001b[49m\u001b[43m)\u001b[49m\n",
      "File \u001b[0;32m/opt/conda/lib/python3.10/site-packages/pandas/core/frame.py:8351\u001b[0m, in \u001b[0;36mDataFrame.explode\u001b[0;34m(self, column, ignore_index)\u001b[0m\n\u001b[1;32m   8349\u001b[0m     \u001b[38;5;28;01mfor\u001b[39;00m c \u001b[38;5;129;01min\u001b[39;00m columns[\u001b[38;5;241m1\u001b[39m:]:\n\u001b[1;32m   8350\u001b[0m         \u001b[38;5;28;01mif\u001b[39;00m \u001b[38;5;129;01mnot\u001b[39;00m \u001b[38;5;28mall\u001b[39m(counts0 \u001b[38;5;241m==\u001b[39m \u001b[38;5;28mself\u001b[39m[c]\u001b[38;5;241m.\u001b[39mapply(mylen)):\n\u001b[0;32m-> 8351\u001b[0m             \u001b[38;5;28;01mraise\u001b[39;00m \u001b[38;5;167;01mValueError\u001b[39;00m(\u001b[38;5;124m\"\u001b[39m\u001b[38;5;124mcolumns must have matching element counts\u001b[39m\u001b[38;5;124m\"\u001b[39m)\n\u001b[1;32m   8352\u001b[0m     result \u001b[38;5;241m=\u001b[39m DataFrame({c: df[c]\u001b[38;5;241m.\u001b[39mexplode() \u001b[38;5;28;01mfor\u001b[39;00m c \u001b[38;5;129;01min\u001b[39;00m columns})\n\u001b[1;32m   8353\u001b[0m result \u001b[38;5;241m=\u001b[39m df\u001b[38;5;241m.\u001b[39mdrop(columns, axis\u001b[38;5;241m=\u001b[39m\u001b[38;5;241m1\u001b[39m)\u001b[38;5;241m.\u001b[39mjoin(result)\n",
      "\u001b[0;31mValueError\u001b[0m: columns must have matching element counts"
     ]
    }
   ],
   "source": [
    "df_dwts_new.head(1).explode(['judges','judge_score_list'])"
   ]
  },
  {
   "cell_type": "code",
   "execution_count": null,
   "id": "79633512-cd16-43ea-954f-7fa97cea1a84",
   "metadata": {},
   "outputs": [],
   "source": []
  }
 ],
 "metadata": {
  "kernelspec": {
   "display_name": "Python 3 (ipykernel)",
   "language": "python",
   "name": "python3"
  },
  "language_info": {
   "codemirror_mode": {
    "name": "ipython",
    "version": 3
   },
   "file_extension": ".py",
   "mimetype": "text/x-python",
   "name": "python",
   "nbconvert_exporter": "python",
   "pygments_lexer": "ipython3",
   "version": "3.10.5"
  }
 },
 "nbformat": 4,
 "nbformat_minor": 5
}
