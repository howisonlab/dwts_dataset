{
 "cells": [
  {
   "cell_type": "code",
   "execution_count": null,
   "id": "48b53de1-af62-4338-85ee-08579854f1df",
   "metadata": {},
   "outputs": [],
   "source": [
    "import pandas as pd\n",
    "import json\n",
    "import numpy as np\n",
    "\n",
    "pd.set_option('display.max_columns', None)\n",
    "pd.set_option('display.max_rows', None)"
   ]
  },
  {
   "cell_type": "code",
   "execution_count": 157,
   "id": "280763f5-42d9-47b9-866d-b603f335a5d5",
   "metadata": {},
   "outputs": [
    {
     "data": {
      "text/plain": [
       "Index(['broadway_show', 'cher_music', 'cirque_du_soleil_show',\n",
       "       'classical_music', 'couple', 'dance_&_theme', 'dance_chosen_by',\n",
       "       'dance_style', 'disney_film', 'dynamic_duo', 'elvis_music', 'era',\n",
       "       'film', 'film_series', 'film_theme', 'genre', 'guest_judge',\n",
       "       'horror_film_show', 'icon', 'icons', 'james_bond_film',\n",
       "       'judge_excluded', 'judge_phrase', 'mentor', 'michael_buble_music',\n",
       "       'motown_music', 'music', 'music_by_britney_spears',\n",
       "       'music_by_janet_jackson', 'music_by_queen', 'music_from_grease',\n",
       "       'musical', 'original_couple', 'performance_id', 'performance_scores',\n",
       "       'professionals', 'result', 'scores', 'season', 'stevie_wonder_music',\n",
       "       'team_captain', 'technical_scores', 'television_show',\n",
       "       'trio_dance_partner', 'trio_partner', 'tv_show', 'villain',\n",
       "       'week_title'],\n",
       "      dtype='object')"
      ]
     },
     "execution_count": 157,
     "metadata": {},
     "output_type": "execute_result"
    }
   ],
   "source": [
    "df = pd.read_json('dwts_scraper/scores-new.json')\n",
    "df['performance_id'] = np.arange(df.shape[0])\n",
    "\n",
    "df.drop( df.query(\" couple== ['Dance-off','Dance Duel'] \").index, inplace = True)\n",
    "df.rename(columns = {'judge': 'judge_excluded', \"dance\": \"dance_style\"}, inplace = True)\n",
    "df.columns.sort_values()"
   ]
  },
  {
   "cell_type": "code",
   "execution_count": null,
   "id": "d42263f7-e188-461f-a806-7fa79daacf99",
   "metadata": {},
   "outputs": [],
   "source": [
    "df['judge'] = df['judge_phrase'].str.strip(to_strip=\" .\\n\").str.split(\", \", expand = False)"
   ]
  },
  {
   "cell_type": "code",
   "execution_count": null,
   "id": "85555f37-9f68-457f-8792-076e9a215590",
   "metadata": {},
   "outputs": [],
   "source": [
    "# week_cols = df['week_title'].str.extractall(r\"Week (?P<week>\\d+):?\\s?(?P<week_theme>.*$)\")\n",
    "\n",
    "df['week'] = df['week_title'].str.extract(r'Week (\\d+)')\n",
    "df['week_theme'] = df['week_title'].str.extract(r': (.*?)$') #NaN if no Week Theme.\n",
    "df['week_theme'].fillna('No Theme', inplace = True) # replace NaNs"
   ]
  },
  {
   "cell_type": "code",
   "execution_count": null,
   "id": "ff870920-1262-4b03-b4a0-9abb57134d1e",
   "metadata": {},
   "outputs": [],
   "source": [
    "df['dance_styles'] = df['dance_style'].str.split(\"---\")\n",
    "df['primary_dance_style'] = df.dance_styles.apply(lambda x: x[0])"
   ]
  },
  {
   "cell_type": "code",
   "execution_count": 158,
   "id": "b0767569-6435-416c-a523-b757e9c1f5eb",
   "metadata": {},
   "outputs": [],
   "source": [
    "# coalesce \n",
    "\n",
    "\n",
    "# music_cols = ['elvis_music', 'classical_music', 'motown_music', 'stevie_wonder_music', 'music_by_queen', 'michael_buble_music', 'music_by_janet_jackson', 'music_from_grease', 'cher_music']\n",
    "\n",
    "# some have the music in songs\n",
    "# df['music'] = df['music'].fillna(df['songs'])\n",
    "\n",
    "\n",
    "df['music'] = np.where(df['elvis_music'].notna(), df['elvis_music'] + \"—Elvis Presley\", df['music'])\n",
    "df['music'] = np.where(df['classical_music'].notna(), df['classical_music'], df['music'])\n",
    "df['music'] = np.where(df['motown_music'].notna(), df['motown_music'], df['music'])\n",
    "df['music'] = np.where(df['stevie_wonder_music'].notna(), df['stevie_wonder_music'] + \"—Stevie Wonder\", df['music'])\n",
    "df['music'] = np.where(df['music_by_britney_spears'].notna(), df['music_by_britney_spears'] + \"—Brittany Spears\", df['music'])\n",
    "df['music'] = np.where(df['music_from_grease'].notna(), df['music_from_grease'], df['music'])\n",
    "df['music'] = np.where(df['cher_music'].notna(), df['cher_music'] + \"—Cher\", df['music'])\n",
    "df['music'] = np.where(df['music_by_queen'].notna(), df['music_by_queen'] + \"—Queen\", df['music'])\n",
    "df['music'] = np.where(df['music_by_janet_jackson'].notna(), df['music_by_janet_jackson'] + \"—Janet Jackson\", df['music'])\n",
    "df['music'] = np.where(df['michael_buble_music'].notna(), df['michael_buble_music'] + \"—Michael Buble\", df['music'])\n"
   ]
  },
  {
   "cell_type": "code",
   "execution_count": 119,
   "id": "f7646c68-4a12-4f03-bc4e-47b02297a563",
   "metadata": {},
   "outputs": [
    {
     "data": {
      "text/html": [
       "<div>\n",
       "<style scoped>\n",
       "    .dataframe tbody tr th:only-of-type {\n",
       "        vertical-align: middle;\n",
       "    }\n",
       "\n",
       "    .dataframe tbody tr th {\n",
       "        vertical-align: top;\n",
       "    }\n",
       "\n",
       "    .dataframe thead th {\n",
       "        text-align: right;\n",
       "    }\n",
       "</style>\n",
       "<table border=\"1\" class=\"dataframe\">\n",
       "  <thead>\n",
       "    <tr style=\"text-align: right;\">\n",
       "      <th></th>\n",
       "      <th>couple</th>\n",
       "      <th>scores</th>\n",
       "      <th>dance_style</th>\n",
       "      <th>music</th>\n",
       "      <th>result</th>\n",
       "      <th>season</th>\n",
       "      <th>week_title</th>\n",
       "      <th>judge_phrase</th>\n",
       "      <th>elvis_music</th>\n",
       "      <th>film_theme</th>\n",
       "      <th>film</th>\n",
       "      <th>original_couple</th>\n",
       "      <th>james_bond_film</th>\n",
       "      <th>disney_film</th>\n",
       "      <th>mentor</th>\n",
       "      <th>technical_scores</th>\n",
       "      <th>performance_scores</th>\n",
       "      <th>classical_music</th>\n",
       "      <th>music_by_britney_spears</th>\n",
       "      <th>tv_show</th>\n",
       "      <th>dance_chosen_by</th>\n",
       "      <th>television_show</th>\n",
       "      <th>film_series</th>\n",
       "      <th>professionals</th>\n",
       "      <th>broadway_show</th>\n",
       "      <th>trio_dance_partner</th>\n",
       "      <th>motown_music</th>\n",
       "      <th>stevie_wonder_music</th>\n",
       "      <th>team_captain</th>\n",
       "      <th>era</th>\n",
       "      <th>guest_judge</th>\n",
       "      <th>music_from_grease</th>\n",
       "      <th>dynamic_duo</th>\n",
       "      <th>genre</th>\n",
       "      <th>horror_film_show</th>\n",
       "      <th>villain</th>\n",
       "      <th>trio_partner</th>\n",
       "      <th>icons</th>\n",
       "      <th>cher_music</th>\n",
       "      <th>judge_excluded</th>\n",
       "      <th>icon</th>\n",
       "      <th>michael_buble_music</th>\n",
       "      <th>music_by_queen</th>\n",
       "      <th>dance_&amp;_theme</th>\n",
       "      <th>music_by_janet_jackson</th>\n",
       "      <th>cirque_du_soleil_show</th>\n",
       "      <th>musical</th>\n",
       "      <th>performance_id</th>\n",
       "    </tr>\n",
       "  </thead>\n",
       "  <tbody>\n",
       "  </tbody>\n",
       "</table>\n",
       "</div>"
      ],
      "text/plain": [
       "Empty DataFrame\n",
       "Columns: [couple, scores, dance_style, music, result, season, week_title, judge_phrase, elvis_music, film_theme, film, original_couple, james_bond_film, disney_film, mentor, technical_scores, performance_scores, classical_music, music_by_britney_spears, tv_show, dance_chosen_by, television_show, film_series, professionals, broadway_show, trio_dance_partner, motown_music, stevie_wonder_music, team_captain, era, guest_judge, music_from_grease, dynamic_duo, genre, horror_film_show, villain, trio_partner, icons, cher_music, judge_excluded, icon, michael_buble_music, music_by_queen, dance_&_theme, music_by_janet_jackson, cirque_du_soleil_show, musical, performance_id]\n",
       "Index: []"
      ]
     },
     "execution_count": 119,
     "metadata": {},
     "output_type": "execute_result"
    }
   ],
   "source": [
    "# df[df['michael_buble_music'].notna()]\n",
    "df[df['music'].isna()]"
   ]
  },
  {
   "cell_type": "code",
   "execution_count": 159,
   "id": "068fd344-37d0-4d8e-a332-dbea26598d9b",
   "metadata": {},
   "outputs": [],
   "source": [
    "\n",
    "df['songs'] = df['music'].str.split(\"---\")\n",
    "df['primary_song_phrase'] = df.songs.apply(lambda x: x[0])\n",
    "df[['primary_song','primary_artist']] = df.primary_song_phrase.str.extract(r'(.*)[—―一]+(.*?)$')"
   ]
  },
  {
   "cell_type": "code",
   "execution_count": 160,
   "id": "f50d9402-5e9b-46e4-8f09-b251a8af9a38",
   "metadata": {},
   "outputs": [
    {
     "data": {
      "text/html": [
       "<div>\n",
       "<style scoped>\n",
       "    .dataframe tbody tr th:only-of-type {\n",
       "        vertical-align: middle;\n",
       "    }\n",
       "\n",
       "    .dataframe tbody tr th {\n",
       "        vertical-align: top;\n",
       "    }\n",
       "\n",
       "    .dataframe thead th {\n",
       "        text-align: right;\n",
       "    }\n",
       "</style>\n",
       "<table border=\"1\" class=\"dataframe\">\n",
       "  <thead>\n",
       "    <tr style=\"text-align: right;\">\n",
       "      <th></th>\n",
       "      <th>couple</th>\n",
       "      <th>scores</th>\n",
       "      <th>dance_style</th>\n",
       "      <th>music</th>\n",
       "      <th>result</th>\n",
       "      <th>season</th>\n",
       "      <th>week_title</th>\n",
       "      <th>judge_phrase</th>\n",
       "      <th>elvis_music</th>\n",
       "      <th>film_theme</th>\n",
       "      <th>film</th>\n",
       "      <th>original_couple</th>\n",
       "      <th>james_bond_film</th>\n",
       "      <th>disney_film</th>\n",
       "      <th>mentor</th>\n",
       "      <th>technical_scores</th>\n",
       "      <th>performance_scores</th>\n",
       "      <th>classical_music</th>\n",
       "      <th>music_by_britney_spears</th>\n",
       "      <th>tv_show</th>\n",
       "      <th>dance_chosen_by</th>\n",
       "      <th>television_show</th>\n",
       "      <th>film_series</th>\n",
       "      <th>professionals</th>\n",
       "      <th>broadway_show</th>\n",
       "      <th>trio_dance_partner</th>\n",
       "      <th>motown_music</th>\n",
       "      <th>stevie_wonder_music</th>\n",
       "      <th>team_captain</th>\n",
       "      <th>era</th>\n",
       "      <th>guest_judge</th>\n",
       "      <th>music_from_grease</th>\n",
       "      <th>dynamic_duo</th>\n",
       "      <th>genre</th>\n",
       "      <th>horror_film_show</th>\n",
       "      <th>villain</th>\n",
       "      <th>trio_partner</th>\n",
       "      <th>icons</th>\n",
       "      <th>cher_music</th>\n",
       "      <th>judge_excluded</th>\n",
       "      <th>icon</th>\n",
       "      <th>michael_buble_music</th>\n",
       "      <th>music_by_queen</th>\n",
       "      <th>dance_&amp;_theme</th>\n",
       "      <th>music_by_janet_jackson</th>\n",
       "      <th>cirque_du_soleil_show</th>\n",
       "      <th>musical</th>\n",
       "      <th>performance_id</th>\n",
       "      <th>songs</th>\n",
       "      <th>primary_song_phrase</th>\n",
       "      <th>primary_song</th>\n",
       "      <th>primary_artist</th>\n",
       "    </tr>\n",
       "  </thead>\n",
       "  <tbody>\n",
       "    <tr>\n",
       "      <th>2585</th>\n",
       "      <td></td>\n",
       "      <td></td>\n",
       "      <td></td>\n",
       "      <td></td>\n",
       "      <td></td>\n",
       "      <td>13</td>\n",
       "      <td>Week 10: Finals</td>\n",
       "      <td>Carrie Ann Inaba, Len Goodman, Bruno Tonioli.\\n</td>\n",
       "      <td>NaN</td>\n",
       "      <td>NaN</td>\n",
       "      <td>NaN</td>\n",
       "      <td>NaN</td>\n",
       "      <td>NaN</td>\n",
       "      <td>NaN</td>\n",
       "      <td>NaN</td>\n",
       "      <td>NaN</td>\n",
       "      <td>NaN</td>\n",
       "      <td>NaN</td>\n",
       "      <td>NaN</td>\n",
       "      <td>NaN</td>\n",
       "      <td>NaN</td>\n",
       "      <td>NaN</td>\n",
       "      <td>NaN</td>\n",
       "      <td>NaN</td>\n",
       "      <td>NaN</td>\n",
       "      <td>NaN</td>\n",
       "      <td>NaN</td>\n",
       "      <td>NaN</td>\n",
       "      <td>NaN</td>\n",
       "      <td>NaN</td>\n",
       "      <td>NaN</td>\n",
       "      <td>NaN</td>\n",
       "      <td>NaN</td>\n",
       "      <td>NaN</td>\n",
       "      <td>NaN</td>\n",
       "      <td>NaN</td>\n",
       "      <td>NaN</td>\n",
       "      <td>NaN</td>\n",
       "      <td>NaN</td>\n",
       "      <td>NaN</td>\n",
       "      <td>NaN</td>\n",
       "      <td>NaN</td>\n",
       "      <td>NaN</td>\n",
       "      <td>NaN</td>\n",
       "      <td>NaN</td>\n",
       "      <td>NaN</td>\n",
       "      <td>NaN</td>\n",
       "      <td>2585</td>\n",
       "      <td>[]</td>\n",
       "      <td></td>\n",
       "      <td>NaN</td>\n",
       "      <td>NaN</td>\n",
       "    </tr>\n",
       "    <tr>\n",
       "      <th>2776</th>\n",
       "      <td>Gabby &amp; Alan---Heidi &amp; Artem---Jordin &amp; Brando...</td>\n",
       "      <td></td>\n",
       "      <td>Freestyle---(Team Wicked)</td>\n",
       "      <td>\"The Witches Are Back\" (from Hocus Pocus 2)</td>\n",
       "      <td>\"The Witches Are Back\" (from Hocus Pocus 2)</td>\n",
       "      <td>31</td>\n",
       "      <td>Week 7: Halloween Night</td>\n",
       "      <td>Carrie Ann Inaba, Len Goodman, Derek Hough, Br...</td>\n",
       "      <td>NaN</td>\n",
       "      <td>NaN</td>\n",
       "      <td>NaN</td>\n",
       "      <td>NaN</td>\n",
       "      <td>NaN</td>\n",
       "      <td>NaN</td>\n",
       "      <td>NaN</td>\n",
       "      <td>NaN</td>\n",
       "      <td>NaN</td>\n",
       "      <td>NaN</td>\n",
       "      <td>NaN</td>\n",
       "      <td>NaN</td>\n",
       "      <td>NaN</td>\n",
       "      <td>NaN</td>\n",
       "      <td>NaN</td>\n",
       "      <td>NaN</td>\n",
       "      <td>NaN</td>\n",
       "      <td>NaN</td>\n",
       "      <td>NaN</td>\n",
       "      <td>NaN</td>\n",
       "      <td>NaN</td>\n",
       "      <td>NaN</td>\n",
       "      <td>NaN</td>\n",
       "      <td>NaN</td>\n",
       "      <td>NaN</td>\n",
       "      <td>NaN</td>\n",
       "      <td>NaN</td>\n",
       "      <td>NaN</td>\n",
       "      <td>NaN</td>\n",
       "      <td>NaN</td>\n",
       "      <td>NaN</td>\n",
       "      <td>NaN</td>\n",
       "      <td>NaN</td>\n",
       "      <td>NaN</td>\n",
       "      <td>NaN</td>\n",
       "      <td>NaN</td>\n",
       "      <td>NaN</td>\n",
       "      <td>NaN</td>\n",
       "      <td>NaN</td>\n",
       "      <td>2776</td>\n",
       "      <td>[\"The Witches Are Back\" (from Hocus Pocus 2)]</td>\n",
       "      <td>\"The Witches Are Back\" (from Hocus Pocus 2)</td>\n",
       "      <td>NaN</td>\n",
       "      <td>NaN</td>\n",
       "    </tr>\n",
       "  </tbody>\n",
       "</table>\n",
       "</div>"
      ],
      "text/plain": [
       "                                                 couple scores  \\\n",
       "2585                                                             \n",
       "2776  Gabby & Alan---Heidi & Artem---Jordin & Brando...          \n",
       "\n",
       "                    dance_style                                        music  \\\n",
       "2585                                                                           \n",
       "2776  Freestyle---(Team Wicked)  \"The Witches Are Back\" (from Hocus Pocus 2)   \n",
       "\n",
       "                                           result  season  \\\n",
       "2585                                                   13   \n",
       "2776  \"The Witches Are Back\" (from Hocus Pocus 2)      31   \n",
       "\n",
       "                   week_title  \\\n",
       "2585          Week 10: Finals   \n",
       "2776  Week 7: Halloween Night   \n",
       "\n",
       "                                           judge_phrase elvis_music  \\\n",
       "2585    Carrie Ann Inaba, Len Goodman, Bruno Tonioli.\\n         NaN   \n",
       "2776  Carrie Ann Inaba, Len Goodman, Derek Hough, Br...         NaN   \n",
       "\n",
       "     film_theme film original_couple james_bond_film disney_film mentor  \\\n",
       "2585        NaN  NaN             NaN             NaN         NaN    NaN   \n",
       "2776        NaN  NaN             NaN             NaN         NaN    NaN   \n",
       "\n",
       "     technical_scores performance_scores classical_music  \\\n",
       "2585              NaN                NaN             NaN   \n",
       "2776              NaN                NaN             NaN   \n",
       "\n",
       "     music_by_britney_spears tv_show dance_chosen_by television_show  \\\n",
       "2585                     NaN     NaN             NaN             NaN   \n",
       "2776                     NaN     NaN             NaN             NaN   \n",
       "\n",
       "     film_series professionals broadway_show trio_dance_partner motown_music  \\\n",
       "2585         NaN           NaN           NaN                NaN          NaN   \n",
       "2776         NaN           NaN           NaN                NaN          NaN   \n",
       "\n",
       "     stevie_wonder_music team_captain  era guest_judge music_from_grease  \\\n",
       "2585                 NaN          NaN  NaN         NaN               NaN   \n",
       "2776                 NaN          NaN  NaN         NaN               NaN   \n",
       "\n",
       "     dynamic_duo genre horror_film_show villain trio_partner icons cher_music  \\\n",
       "2585         NaN   NaN              NaN     NaN          NaN   NaN        NaN   \n",
       "2776         NaN   NaN              NaN     NaN          NaN   NaN        NaN   \n",
       "\n",
       "     judge_excluded icon michael_buble_music music_by_queen dance_&_theme  \\\n",
       "2585            NaN  NaN                 NaN            NaN           NaN   \n",
       "2776            NaN  NaN                 NaN            NaN           NaN   \n",
       "\n",
       "     music_by_janet_jackson cirque_du_soleil_show musical  performance_id  \\\n",
       "2585                    NaN                   NaN     NaN            2585   \n",
       "2776                    NaN                   NaN     NaN            2776   \n",
       "\n",
       "                                              songs  \\\n",
       "2585                                             []   \n",
       "2776  [\"The Witches Are Back\" (from Hocus Pocus 2)]   \n",
       "\n",
       "                              primary_song_phrase primary_song primary_artist  \n",
       "2585                                                       NaN            NaN  \n",
       "2776  \"The Witches Are Back\" (from Hocus Pocus 2)          NaN            NaN  "
      ]
     },
     "execution_count": 160,
     "metadata": {},
     "output_type": "execute_result"
    }
   ],
   "source": [
    "#df.head(500)[['primary_song','primary_artist']]\n",
    "df[df['primary_song'].isna()]\n",
    "\n",
    "# drop empty scores.  Some sort of extra line in the table at https://en.wikipedia.org/wiki/Dancing_with_the_Stars_(American_season_13)#Week_10:_Finals"
   ]
  },
  {
   "cell_type": "code",
   "execution_count": null,
   "id": "26da76d0-c681-4c4c-ba35-825f775e7ceb",
   "metadata": {},
   "outputs": [],
   "source": [
    "# Some weeks (e.g., random have a `score` column instead of a `scores` column.  Rename that.\n",
    "# this seems to have been fixed on wikipedia.\n",
    "\n",
    "# https://en.wikipedia.org/wiki/Dancing_with_the_Stars_(American_season_20)#Weekly_scores Week 5.\n",
    "# https://en.wikipedia.org/wiki/Dancing_with_the_Stars_(American_season_17)#Weekly_scores Week 6.\n",
    "\n",
    "\n",
    "# https://stackoverflow.com/questions/34989341/how-to-remove-nan-value-while-combining-two-column-in-panda-data-frame\n",
    "# df['scores'] = df['scores'].fillna(df['score'])"
   ]
  },
  {
   "cell_type": "code",
   "execution_count": null,
   "id": "772934a5-5079-473b-b51d-81b34427e5e6",
   "metadata": {},
   "outputs": [],
   "source": [
    "df.columns.sort_values()"
   ]
  },
  {
   "cell_type": "code",
   "execution_count": null,
   "id": "89afd144-5d9b-43dd-93f9-b19471f152e3",
   "metadata": {},
   "outputs": [],
   "source": [
    "# df[df['season'] == '']"
   ]
  },
  {
   "cell_type": "code",
   "execution_count": null,
   "id": "1eaea760-460d-46eb-98f9-9857e529a83b",
   "metadata": {},
   "outputs": [],
   "source": [
    "# https://en.wikipedia.org/wiki/Dancing_with_the_Stars_(American_season_9)#Weekly_scores Week 6 has a 'ranked order' score dance.\n",
    "# Dance Offs are also a problem, some are separate tables, some are bottom rows in tables.\n",
    "\n",
    "\n",
    "\n",
    "\n"
   ]
  },
  {
   "cell_type": "code",
   "execution_count": null,
   "id": "b81827ec-f2e4-487f-a861-e54089d9614a",
   "metadata": {},
   "outputs": [],
   "source": [
    "# Some weeks have a technical score/performance score. but no scores column.\n",
    "\n",
    "# https://en.wikipedia.org/wiki/Dancing_with_the_Stars_(American_season_11)#Weekly_scores Week 4\n",
    "# https://en.wikipedia.org/wiki/Dancing_with_the_Stars_(American_season_10)#Weekly_scores Week 4\n",
    "\n",
    "# double_score = df[df['technical_score'].notna()]\n",
    "\n",
    "# double_score[double_score.columns[~double_score.isnull().any()]]"
   ]
  },
  {
   "cell_type": "code",
   "execution_count": null,
   "id": "d05c50f7-51f5-469c-9a0d-d642755c3401",
   "metadata": {},
   "outputs": [],
   "source": [
    "# Quite a few rows from tables that shouldn't be parsed (after end of week shows).  e.g. tributes.\n",
    "# Either fix in parsing or drop here.\n",
    "\n",
    "df.dropna(subset=['dance_style'], inplace=True)\n",
    "\n",
    "# df[df['dance'].isna()]\n",
    "\n"
   ]
  },
  {
   "cell_type": "code",
   "execution_count": null,
   "id": "56225ede-e30f-4bfb-8ee4-611fbd1b554f",
   "metadata": {},
   "outputs": [],
   "source": [
    "# season 22, week 8 has a very difficult judges score arrangement\n",
    "# https://en.wikipedia.org/wiki/Dancing_with_the_Stars_(American_season_22)#Week_8:_Judges'_Team-up_Challenge\n",
    "\n",
    "#  total (9, X, 9, 9) where the final score is \"america's score\" and the X is the score that would have been the score from the judge\n",
    "# in df['judge'] column.  gah.  but those are multi couple dances.  phew."
   ]
  },
  {
   "cell_type": "code",
   "execution_count": null,
   "id": "8ed499af-6ac3-4938-b7e2-255d68f663dc",
   "metadata": {},
   "outputs": [],
   "source": [
    "# editing on the pages made this moot.\n",
    "# Some couple columns have additional info which is in parens in the column. This creates an NA couple column.\n",
    "\n",
    "# pattern = r'(?P<couple_alone>.*?)\\((?P<additional>.*?)\\)$'\n",
    "\n",
    "# # e.g., https://en.wikipedia.org/wiki/Dancing_with_the_Stars_(American_season_27) Week 4.  Couple (Trio Dance Partner)\n",
    "# df[['couple_alone','trio_partner']] = df['couple_trio_dance_partner_'].str.extract(pattern)\n",
    "# df['couple'] = df['couple'].fillna(df['couple_alone'])\n",
    "# df.drop(columns='couple_alone', inplace=True)\n",
    "\n",
    "# # https://en.wikipedia.org/wiki/Dancing_with_the_Stars_(American_season_16) Week 5 (Professionals).\n",
    "# df[['couple_alone','additional_dancers']] = df['couple_professionals_'].str.extract(pattern)\n",
    "# df['couple'] = df['couple'].fillna(df['couple_alone'])\n",
    "# df.drop(columns='couple_alone', inplace=True)\n",
    "\n",
    "# # couple_team_up_judge_ from https://en.wikipedia.org/wiki/Dancing_with_the_Stars_(American_season_22)#Week_8:_Judges'_Team-up_Challenge\n",
    "# # Some of These are multi-couple dances, with a judge listed i the couple column, and then an X for the score that the judge that coached the team would have given.\n",
    "# # but others are regular dances (just a different column name)\n",
    "# df['couple'] = df['couple'].fillna(df['couple_team_up_judge_'])\n",
    "\n",
    "# # couple_judge_  from https://en.wikipedia.org/wiki/Dancing_with_the_Stars_(American_season_11)#Week_10:_Finals is much simpler (just a judge chosen dance).\n",
    "# df[['couple_alone','judge_choosing_dance']] = df['couple_judge_'].str.extract(pattern)\n",
    "# df['couple'] = df['couple'].fillna(df['couple_alone'])\n",
    "# df.drop(columns='couple_alone', inplace=True)\n",
    "\n",
    "# # One remains from the couple_judge_ due to a substitution which then didn't have a judge (so the regex above doesn't catch it)\n",
    "# # 2341 where the couple_judge_ is Nastia & Sasha[a]\n",
    "# df['couple'] = df['couple'].fillna(df['couple_judge_'])\n",
    "# # df.iloc[2341]\n",
    "\n",
    "# df.drop(columns=['couple_trio_dance_partner_', 'couple_professionals_', 'couple_judge_'], inplace=True)\n",
    "\n",
    "# df[df['couple'].isna()]"
   ]
  },
  {
   "cell_type": "code",
   "execution_count": null,
   "id": "71af2ceb-44c2-4d00-b588-290686a6cfc9",
   "metadata": {},
   "outputs": [],
   "source": [
    "# Some have technical_score and performance_score.\n",
    "# add a score_type column.\n",
    "# split these out, going to be two rows, each with scores column and a score_type column.\n",
    "\n",
    "double_scores = ( df[df['technical_scores'].notna()]\n",
    "                  .drop(columns=\"scores\")\n",
    "                  .dropna(axis = 1, how = \"all\") )\n",
    "\n",
    "val_cols = ['technical_scores','performance_scores']\n",
    "id_cols = [ele for ele in double_scores if ele not in val_cols]\n",
    "# now get two rows per\n",
    "double_scores = double_scores.melt(id_vars = id_cols, value_vars = val_cols, value_name = \"scores\", var_name = \"score_type\")\n",
    "\n",
    "single_scores = df.drop(df.index[df['technical_scores'].notna()])\n",
    "# make others be score_type\n",
    "single_scores['score_type'] = \"single_score\"\n",
    "single_scores.drop(columns=['technical_scores','performance_scores'], inplace=True)\n",
    "\n",
    "df_score_type = pd.concat([double_scores, single_scores])\n"
   ]
  },
  {
   "cell_type": "code",
   "execution_count": null,
   "id": "effc8368-49af-4f3f-b24b-df2a2b51c337",
   "metadata": {},
   "outputs": [],
   "source": [
    "# df_score_type.head()"
   ]
  },
  {
   "cell_type": "code",
   "execution_count": null,
   "id": "40fdb70d-bbe1-486c-b33e-465b877a108d",
   "metadata": {},
   "outputs": [],
   "source": [
    "df_score_type[['total_score','indiv_scores']] = df_score_type['scores'].str.extract(r'(?P<total_score>\\d+)\\s\\((?P<indiv_scores>.*)\\)')\n",
    "\n",
    "# new_cols['judge_score_list'] = new_cols['indiv_scores'].str.split(\",\")\n",
    "\n",
    "\n",
    "# df_new = pd.concat([df, new_cols], axis = 1)"
   ]
  },
  {
   "cell_type": "code",
   "execution_count": null,
   "id": "729f0cb7-0647-4760-8e01-b8c635727b6d",
   "metadata": {},
   "outputs": [],
   "source": [
    "# song_cols = df['music'].str.extract(r'\"(?P<song_name>.*)\"—(?P<song_artist>.*)$')\n",
    "# song_cols\n",
    "# df[\"music\"].str.split(\" / \") Some music columns have multiples."
   ]
  },
  {
   "cell_type": "code",
   "execution_count": null,
   "id": "97417bf0-cf82-4f36-b40e-6e5a79547687",
   "metadata": {},
   "outputs": [],
   "source": []
  },
  {
   "cell_type": "code",
   "execution_count": null,
   "id": "3f5f6e1e-bc9f-4573-b311-9660ffeda218",
   "metadata": {},
   "outputs": [],
   "source": [
    "# most are multi couple dances, with ranking scores.\n",
    "\n",
    "df_score_type[\"couple_list\"] = df_score_type[\"couple\"].str.split(\"---\")\n",
    "df_score_type[\"couple_count\"] = df_score_type[\"couple_list\"].apply(len)\n",
    "\n"
   ]
  },
  {
   "cell_type": "code",
   "execution_count": null,
   "id": "f04efea1-fdf5-4334-aa26-573b2e42169e",
   "metadata": {},
   "outputs": [],
   "source": [
    "# Now eliminate multi-couple dances and dances with NA total scores (mostly dance offs and others). \n",
    "#  Might still be one or two issues with total scores but not individual scores.\n",
    "\n",
    "df_single_couple = df_score_type.loc[(df_score_type['couple_count'] == 1) & df_score_type['total_score'].notna() ].copy()\n",
    "\n",
    "# df_single_couple.head()\n",
    "\n"
   ]
  },
  {
   "cell_type": "code",
   "execution_count": null,
   "id": "c795053a-9259-4994-a5f5-371efecfa5db",
   "metadata": {},
   "outputs": [],
   "source": [
    "# df_single_couple[df_single_couple['indiv_scores'].isna()]"
   ]
  },
  {
   "cell_type": "code",
   "execution_count": null,
   "id": "a65dcf34-3506-4e82-a763-dff2c3e3f1f1",
   "metadata": {},
   "outputs": [],
   "source": [
    "# df_single_couple.head()\n",
    "\n",
    "df_single_couple['judge_score_list'] = df_single_couple['indiv_scores'].str.split(\", \")\n",
    "\n",
    "# df_single_couple['judge_score_list']\n",
    "df_single_couple['judge_score_count'] = df_single_couple['judge_score_list'].apply(len)\n",
    "\n",
    "df_single_couple['judge_count'] = df_single_couple['judge'].apply(len)\n",
    "\n",
    "\n",
    "# a few have a total score, but not an individual score.  e.g., s9w10."
   ]
  },
  {
   "cell_type": "code",
   "execution_count": null,
   "id": "1f4b04a2-c78e-48c8-9064-8367e6e52a0e",
   "metadata": {},
   "outputs": [],
   "source": [
    "#pd.set_option('max_colwidth', None) \n",
    "#df_single_couple[df_single_couple['season'] == 31][['week','judge_phrase']]"
   ]
  },
  {
   "cell_type": "code",
   "execution_count": null,
   "id": "79251523-2af5-40f7-882f-051d07769184",
   "metadata": {},
   "outputs": [],
   "source": [
    "df_single_couple.loc[df_single_couple['judge_score_count'] != df_single_couple['judge_count']]\n",
    "\n",
    "# Trouble in \n",
    "# https://en.wikipedia.org/wiki/Dancing_with_the_Stars_(American_season_23)#Week_5:_Most_Memorable_Year_Night\n",
    "# https://en.wikipedia.org/wiki/Dancing_with_the_Stars_(American_season_31)#Week_6:_Michael_Bubl%C3%A9_Night"
   ]
  },
  {
   "cell_type": "code",
   "execution_count": null,
   "id": "99824747-9954-431f-a4d1-c7fb2a6f908c",
   "metadata": {},
   "outputs": [],
   "source": []
  },
  {
   "cell_type": "code",
   "execution_count": null,
   "id": "37683ff5-da9c-4a5f-b288-c94271d5b894",
   "metadata": {},
   "outputs": [],
   "source": [
    "df_final = ( df_single_couple\n",
    "              #  .head(5)\n",
    "               .explode(['judge','judge_score_list'])\n",
    "               .rename(columns={'judge_score_list': 'judge_score'})\n",
    "               .drop(columns=['indiv_scores','judge_phrase','scores'])\n",
    "               .assign(judge = lambda df: df.judge.str.strip(\" .\"))\n",
    ")\n",
    "\n",
    "df_final.drop( df_final.query(\" judge_score == 'X' \").index, inplace = True)\n",
    "\n",
    "df_final['judge_score_id'] = np.arange(df_final.shape[0])"
   ]
  },
  {
   "cell_type": "code",
   "execution_count": null,
   "id": "84af39ae-2e1a-429b-9978-b57842bfec16",
   "metadata": {},
   "outputs": [],
   "source": [
    "# rename \"Guest judge\" with value from df_final['guest_judge']\n",
    "df_final['judge'] = np.where(df_final['judge'] == 'Guest judge', df_final['guest_judge'], df_final['judge'])\n",
    "\n",
    "# fix Julianne Hough (Night 1 only)\n",
    "df_final['judge'] = np.where(df_final['judge'] == 'Julianne Hough (Night 1 only)', 'Julianne Hough', df_final['judge'])\n",
    "\n",
    "# sorted(df_final['judge'].unique().tolist())"
   ]
  },
  {
   "cell_type": "code",
   "execution_count": null,
   "id": "c0d83ab8-cc93-4489-9bcd-d9c98f2321a9",
   "metadata": {},
   "outputs": [],
   "source": [
    "# df_final[df_final['judge_score'] == '2']"
   ]
  },
  {
   "cell_type": "code",
   "execution_count": null,
   "id": "4db3cb57-3dba-40e7-aab9-ee6f1b238c9e",
   "metadata": {},
   "outputs": [],
   "source": [
    "# sorted(df_final['judge_score'].unique().tolist())"
   ]
  },
  {
   "cell_type": "code",
   "execution_count": null,
   "id": "19c2f76b-b4c2-4dc3-b793-42b90fc81b15",
   "metadata": {},
   "outputs": [],
   "source": [
    "# df_final[df_final['judge_score'] == 'X']\n",
    "\n"
   ]
  },
  {
   "cell_type": "code",
   "execution_count": null,
   "id": "5d2b9f61-7006-46fa-a586-5b4bcc97e486",
   "metadata": {},
   "outputs": [],
   "source": [
    "# df_final[df_final['judge_score'] == 'X']"
   ]
  },
  {
   "cell_type": "code",
   "execution_count": null,
   "id": "5c55a715-a6c3-45fd-aa60-e5f8dac4a406",
   "metadata": {},
   "outputs": [],
   "source": [
    "all_cols = df_final.columns.values.tolist()\n",
    "\n",
    "to_remove = ['judge_excluded', 'couple_list', 'couple_count', 'judge_score_count', 'judge_count']\n",
    "\n",
    "all_cols = [ele for ele in all_cols if ele not in to_remove]\n",
    "\n",
    "front_cols = [ 'judge_score_id', 'judge','judge_score', 'performance_id','season','week','couple','dance_style','music','total_score' ]\n",
    "\n",
    "remaining_cols = [ele for ele in all_cols if ele not in front_cols]\n",
    "\n",
    "reordered = front_cols + remaining_cols"
   ]
  },
  {
   "cell_type": "code",
   "execution_count": null,
   "id": "527f9ce3-45fc-4180-aa9a-2bef71a7bc35",
   "metadata": {},
   "outputs": [],
   "source": [
    "df_final = df_final[reordered]"
   ]
  },
  {
   "cell_type": "code",
   "execution_count": null,
   "id": "c78c6077-3deb-46cf-8eb3-a37f0b0ca3f5",
   "metadata": {},
   "outputs": [],
   "source": [
    "df_final.to_csv(\"dwts_dataset.csv\", index = False)"
   ]
  },
  {
   "cell_type": "code",
   "execution_count": null,
   "id": "9d967471-e5de-49b6-a003-261dd73d401c",
   "metadata": {},
   "outputs": [],
   "source": [
    "sorted(df_final.columns)"
   ]
  },
  {
   "cell_type": "markdown",
   "id": "f27e865d-26b2-41b5-bb92-bb2e0901d84f",
   "metadata": {},
   "source": [
    "# Produce tables\n",
    "\n",
    "performances (id, song_id, dance_style_id, couple_id, season_id, week_id, week_theme_id)\n",
    "dance_styles (id, name) \n",
    "songs (id, name, artist_id)\n",
    "artists (id, name)\n",
    "scores (id, performance_id, person_id, score)\n",
    "seasons (id, season_no, year_broadcast)\n",
    "week_themes (id, name, season_id)\n",
    "              \n",
    "couples (id, name, celebrity_person_id, pro_person_id) # maybe.\n",
    "\n",
    "people # Note that some work needed to match up couples to people.\n"
   ]
  },
  {
   "cell_type": "code",
   "execution_count": null,
   "id": "6d643ea8-86e1-4534-9d5d-15b077caeb64",
   "metadata": {},
   "outputs": [],
   "source": [
    "dance_styles_series = df_final['dance_style'].unique()\n",
    "dance_styles = pd.DataFrame({'id': np.arange(1, len(dance_styles_series) + 1), 'name': dance_styles_series})\n",
    "dance_styles.to_csv(\"dwts_dataset/dance_styles.csv\", index = False)"
   ]
  },
  {
   "cell_type": "code",
   "execution_count": null,
   "id": "56f29a4e-7732-4606-a37f-5f891c5c662d",
   "metadata": {},
   "outputs": [],
   "source": [
    "couples_series = df_final['couple'].unique()\n",
    "couples = pd.DataFrame({'id': np.arange(1, len(couples_series) + 1), 'name': couples_series})\n",
    "couples.to_csv(\"dwts_dataset/couples.csv\", index = False)"
   ]
  },
  {
   "cell_type": "code",
   "execution_count": null,
   "id": "216c4eed-57c4-4084-acfe-c9bc87f44209",
   "metadata": {},
   "outputs": [],
   "source": [
    "\n",
    "df_final['couple_id'] = df_final.couple.factorize()[0] + 1\n",
    "df_final[['couple_id','couple']].drop_duplicates().to_csv(\"dwts_dataset/couples.csv\", index = False)\n",
    "\n",
    "df_final['dance_style_id'] = df_final.dance_style.factorize()[0] + 1\n",
    "df_final[['dance_style_id','dance_style']].drop_duplicates().to_csv(\"dwts_dataset/dance_styles.csv\", index = False)\n",
    "\n",
    "df_final['week_theme_id'] = df_final.week_theme.factorize()[0] + 1\n",
    "df_final[['week_theme_id','week_theme']].drop_duplicates().to_csv(\"dwts_dataset/week_theme.csv\", index = False)\n",
    "\n"
   ]
  },
  {
   "cell_type": "code",
   "execution_count": null,
   "id": "741a34ee-2895-4248-8154-fa3958188ed3",
   "metadata": {},
   "outputs": [],
   "source": [
    "df_final['week_theme_id'].unique()"
   ]
  },
  {
   "cell_type": "code",
   "execution_count": null,
   "id": "7cb0fa9e-36bd-467b-aa03-08dd690f03f9",
   "metadata": {},
   "outputs": [],
   "source": [
    "# need to make dance_style and song many to 1."
   ]
  }
 ],
 "metadata": {
  "kernelspec": {
   "display_name": "Python 3 (ipykernel)",
   "language": "python",
   "name": "python3"
  },
  "language_info": {
   "codemirror_mode": {
    "name": "ipython",
    "version": 3
   },
   "file_extension": ".py",
   "mimetype": "text/x-python",
   "name": "python",
   "nbconvert_exporter": "python",
   "pygments_lexer": "ipython3",
   "version": "3.10.5"
  }
 },
 "nbformat": 4,
 "nbformat_minor": 5
}
