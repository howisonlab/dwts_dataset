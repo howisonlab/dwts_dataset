{
 "cells": [
  {
   "cell_type": "code",
   "execution_count": 563,
   "id": "48b53de1-af62-4338-85ee-08579854f1df",
   "metadata": {},
   "outputs": [],
   "source": [
    "import pandas as pd\n",
    "import json\n",
    "import numpy as np\n",
    "\n",
    "pd.set_option('display.max_columns', None)\n",
    "pd.set_option('display.max_rows', None)"
   ]
  },
  {
   "cell_type": "code",
   "execution_count": 564,
   "id": "280763f5-42d9-47b9-866d-b603f335a5d5",
   "metadata": {},
   "outputs": [
    {
     "data": {
      "text/plain": [
       "Index(['broadway_show', 'cher_music', 'cirque_du_soleil_show',\n",
       "       'classical_music', 'couple', 'dance_&_theme', 'dance_chosen_by',\n",
       "       'dance_style', 'disney_film', 'dynamic_duo', 'elvis_music', 'era',\n",
       "       'film', 'film_series', 'film_theme', 'genre', 'guest_judge',\n",
       "       'horror_film_show', 'icon', 'icons', 'james_bond_film',\n",
       "       'judge_excluded', 'judge_phrase', 'mentor', 'michael_buble_music',\n",
       "       'motown_music', 'music', 'music_by_britney_spears',\n",
       "       'music_by_janet_jackson', 'music_by_queen', 'music_from_grease',\n",
       "       'musical', 'original_couple', 'performance_id', 'performance_scores',\n",
       "       'professionals', 'result', 'scores', 'season', 'stevie_wonder_music',\n",
       "       'team_captain', 'technical_scores', 'television_show',\n",
       "       'trio_dance_partner', 'trio_partner', 'tv_show', 'villain',\n",
       "       'week_title'],\n",
       "      dtype='object')"
      ]
     },
     "execution_count": 564,
     "metadata": {},
     "output_type": "execute_result"
    }
   ],
   "source": [
    "df = pd.read_json('dwts_scraper/scores-new.json')\n",
    "df['performance_id'] = np.arange(df.shape[0])\n",
    "\n",
    "df.drop( df.query(\" couple== ['Dance-off','Dance Duel'] \").index, inplace = True)\n",
    "df.rename(columns = {'judge': 'judge_excluded', \"dance\": \"dance_style\"}, inplace = True)\n",
    "df.columns.sort_values()"
   ]
  },
  {
   "cell_type": "code",
   "execution_count": 565,
   "id": "d42263f7-e188-461f-a806-7fa79daacf99",
   "metadata": {},
   "outputs": [],
   "source": [
    "df['judge'] = df['judge_phrase'].str.strip(to_strip=\" .\\n\").str.split(\", \", expand = False)"
   ]
  },
  {
   "cell_type": "code",
   "execution_count": 566,
   "id": "235a64e1-b6d4-4f95-9c13-c5503989a861",
   "metadata": {},
   "outputs": [
    {
     "data": {
      "text/plain": [
       "Index(['broadway_show', 'cher_music', 'cirque_du_soleil_show',\n",
       "       'classical_music', 'couple', 'dance_&_theme', 'dance_chosen_by',\n",
       "       'dance_style', 'disney_film', 'dynamic_duo', 'elvis_music', 'era',\n",
       "       'film', 'film_series', 'film_theme', 'genre', 'guest_judge',\n",
       "       'horror_film_show', 'icon', 'icons', 'james_bond_film', 'judge',\n",
       "       'judge_excluded', 'judge_phrase', 'mentor', 'michael_buble_music',\n",
       "       'motown_music', 'music', 'music_by_britney_spears',\n",
       "       'music_by_janet_jackson', 'music_by_queen', 'music_from_grease',\n",
       "       'musical', 'original_couple', 'performance_id', 'performance_scores',\n",
       "       'professionals', 'result', 'scores', 'season', 'stevie_wonder_music',\n",
       "       'team_captain', 'technical_scores', 'television_show',\n",
       "       'trio_dance_partner', 'trio_partner', 'tv_show', 'villain',\n",
       "       'week_title'],\n",
       "      dtype='object')"
      ]
     },
     "execution_count": 566,
     "metadata": {},
     "output_type": "execute_result"
    }
   ],
   "source": [
    "df.columns.sort_values()"
   ]
  },
  {
   "cell_type": "code",
   "execution_count": 567,
   "id": "85555f37-9f68-457f-8792-076e9a215590",
   "metadata": {},
   "outputs": [],
   "source": [
    "# week_cols = df['week_title'].str.extractall(r\"Week (?P<week>\\d+):?\\s?(?P<week_theme>.*$)\")\n",
    "\n",
    "df['week'] = df['week_title'].str.extract(r'Week (\\d+)')\n",
    "df['week_theme'] = df['week_title'].str.extract(r': (.*?)$') #NaN if no Week Theme.\n",
    "df['week_theme'].fillna('No Theme', inplace = True) # replace NaNs"
   ]
  },
  {
   "cell_type": "code",
   "execution_count": 568,
   "id": "ff870920-1262-4b03-b4a0-9abb57134d1e",
   "metadata": {},
   "outputs": [],
   "source": [
    "# df['week_theme']"
   ]
  },
  {
   "cell_type": "code",
   "execution_count": 569,
   "id": "068fd344-37d0-4d8e-a332-dbea26598d9b",
   "metadata": {},
   "outputs": [],
   "source": [
    "# df[df['judge_phrase'].str.contains('Guest')]"
   ]
  },
  {
   "cell_type": "code",
   "execution_count": 570,
   "id": "26da76d0-c681-4c4c-ba35-825f775e7ceb",
   "metadata": {},
   "outputs": [],
   "source": [
    "# Some weeks (e.g., random have a `score` column instead of a `scores` column.  Rename that.\n",
    "# this seems to have been fixed on wikipedia.\n",
    "\n",
    "# https://en.wikipedia.org/wiki/Dancing_with_the_Stars_(American_season_20)#Weekly_scores Week 5.\n",
    "# https://en.wikipedia.org/wiki/Dancing_with_the_Stars_(American_season_17)#Weekly_scores Week 6.\n",
    "\n",
    "\n",
    "# https://stackoverflow.com/questions/34989341/how-to-remove-nan-value-while-combining-two-column-in-panda-data-frame\n",
    "# df['scores'] = df['scores'].fillna(df['score'])"
   ]
  },
  {
   "cell_type": "code",
   "execution_count": 571,
   "id": "772934a5-5079-473b-b51d-81b34427e5e6",
   "metadata": {},
   "outputs": [
    {
     "data": {
      "text/plain": [
       "Index(['broadway_show', 'cher_music', 'cirque_du_soleil_show',\n",
       "       'classical_music', 'couple', 'dance_&_theme', 'dance_chosen_by',\n",
       "       'dance_style', 'disney_film', 'dynamic_duo', 'elvis_music', 'era',\n",
       "       'film', 'film_series', 'film_theme', 'genre', 'guest_judge',\n",
       "       'horror_film_show', 'icon', 'icons', 'james_bond_film', 'judge',\n",
       "       'judge_excluded', 'judge_phrase', 'mentor', 'michael_buble_music',\n",
       "       'motown_music', 'music', 'music_by_britney_spears',\n",
       "       'music_by_janet_jackson', 'music_by_queen', 'music_from_grease',\n",
       "       'musical', 'original_couple', 'performance_id', 'performance_scores',\n",
       "       'professionals', 'result', 'scores', 'season', 'stevie_wonder_music',\n",
       "       'team_captain', 'technical_scores', 'television_show',\n",
       "       'trio_dance_partner', 'trio_partner', 'tv_show', 'villain', 'week',\n",
       "       'week_theme', 'week_title'],\n",
       "      dtype='object')"
      ]
     },
     "execution_count": 571,
     "metadata": {},
     "output_type": "execute_result"
    }
   ],
   "source": [
    "df.columns.sort_values()"
   ]
  },
  {
   "cell_type": "code",
   "execution_count": 572,
   "id": "89afd144-5d9b-43dd-93f9-b19471f152e3",
   "metadata": {},
   "outputs": [],
   "source": [
    "# df[df['season'] == '']"
   ]
  },
  {
   "cell_type": "code",
   "execution_count": 573,
   "id": "1eaea760-460d-46eb-98f9-9857e529a83b",
   "metadata": {},
   "outputs": [],
   "source": [
    "# https://en.wikipedia.org/wiki/Dancing_with_the_Stars_(American_season_9)#Weekly_scores Week 6 has a 'ranked order' score dance.\n",
    "# Dance Offs are also a problem, some are separate tables, some are bottom rows in tables.\n",
    "\n",
    "\n",
    "\n",
    "\n"
   ]
  },
  {
   "cell_type": "code",
   "execution_count": 574,
   "id": "b81827ec-f2e4-487f-a861-e54089d9614a",
   "metadata": {},
   "outputs": [],
   "source": [
    "# Some weeks have a technical score/performance score. but no scores column.\n",
    "\n",
    "# https://en.wikipedia.org/wiki/Dancing_with_the_Stars_(American_season_11)#Weekly_scores Week 4\n",
    "# https://en.wikipedia.org/wiki/Dancing_with_the_Stars_(American_season_10)#Weekly_scores Week 4\n",
    "\n",
    "# double_score = df[df['technical_score'].notna()]\n",
    "\n",
    "# double_score[double_score.columns[~double_score.isnull().any()]]"
   ]
  },
  {
   "cell_type": "code",
   "execution_count": 575,
   "id": "d05c50f7-51f5-469c-9a0d-d642755c3401",
   "metadata": {},
   "outputs": [
    {
     "ename": "KeyError",
     "evalue": "['dance']",
     "output_type": "error",
     "traceback": [
      "\u001b[0;31m---------------------------------------------------------------------------\u001b[0m",
      "\u001b[0;31mKeyError\u001b[0m                                  Traceback (most recent call last)",
      "Input \u001b[0;32mIn [575]\u001b[0m, in \u001b[0;36m<cell line: 4>\u001b[0;34m()\u001b[0m\n\u001b[1;32m      1\u001b[0m \u001b[38;5;66;03m# Quite a few rows from tables that shouldn't be parsed (after end of week shows).  e.g. tributes.\u001b[39;00m\n\u001b[1;32m      2\u001b[0m \u001b[38;5;66;03m# Either fix in parsing or drop here.\u001b[39;00m\n\u001b[0;32m----> 4\u001b[0m \u001b[43mdf\u001b[49m\u001b[38;5;241;43m.\u001b[39;49m\u001b[43mdropna\u001b[49m\u001b[43m(\u001b[49m\u001b[43msubset\u001b[49m\u001b[38;5;241;43m=\u001b[39;49m\u001b[43m[\u001b[49m\u001b[38;5;124;43m'\u001b[39;49m\u001b[38;5;124;43mdance\u001b[39;49m\u001b[38;5;124;43m'\u001b[39;49m\u001b[43m]\u001b[49m\u001b[43m,\u001b[49m\u001b[43m \u001b[49m\u001b[43minplace\u001b[49m\u001b[38;5;241;43m=\u001b[39;49m\u001b[38;5;28;43;01mTrue\u001b[39;49;00m\u001b[43m)\u001b[49m\n",
      "File \u001b[0;32m/opt/conda/lib/python3.10/site-packages/pandas/util/_decorators.py:311\u001b[0m, in \u001b[0;36mdeprecate_nonkeyword_arguments.<locals>.decorate.<locals>.wrapper\u001b[0;34m(*args, **kwargs)\u001b[0m\n\u001b[1;32m    305\u001b[0m \u001b[38;5;28;01mif\u001b[39;00m \u001b[38;5;28mlen\u001b[39m(args) \u001b[38;5;241m>\u001b[39m num_allow_args:\n\u001b[1;32m    306\u001b[0m     warnings\u001b[38;5;241m.\u001b[39mwarn(\n\u001b[1;32m    307\u001b[0m         msg\u001b[38;5;241m.\u001b[39mformat(arguments\u001b[38;5;241m=\u001b[39marguments),\n\u001b[1;32m    308\u001b[0m         \u001b[38;5;167;01mFutureWarning\u001b[39;00m,\n\u001b[1;32m    309\u001b[0m         stacklevel\u001b[38;5;241m=\u001b[39mstacklevel,\n\u001b[1;32m    310\u001b[0m     )\n\u001b[0;32m--> 311\u001b[0m \u001b[38;5;28;01mreturn\u001b[39;00m \u001b[43mfunc\u001b[49m\u001b[43m(\u001b[49m\u001b[38;5;241;43m*\u001b[39;49m\u001b[43margs\u001b[49m\u001b[43m,\u001b[49m\u001b[43m \u001b[49m\u001b[38;5;241;43m*\u001b[39;49m\u001b[38;5;241;43m*\u001b[39;49m\u001b[43mkwargs\u001b[49m\u001b[43m)\u001b[49m\n",
      "File \u001b[0;32m/opt/conda/lib/python3.10/site-packages/pandas/core/frame.py:6008\u001b[0m, in \u001b[0;36mDataFrame.dropna\u001b[0;34m(self, axis, how, thresh, subset, inplace)\u001b[0m\n\u001b[1;32m   6006\u001b[0m     check \u001b[38;5;241m=\u001b[39m indices \u001b[38;5;241m==\u001b[39m \u001b[38;5;241m-\u001b[39m\u001b[38;5;241m1\u001b[39m\n\u001b[1;32m   6007\u001b[0m     \u001b[38;5;28;01mif\u001b[39;00m check\u001b[38;5;241m.\u001b[39many():\n\u001b[0;32m-> 6008\u001b[0m         \u001b[38;5;28;01mraise\u001b[39;00m \u001b[38;5;167;01mKeyError\u001b[39;00m(np\u001b[38;5;241m.\u001b[39marray(subset)[check]\u001b[38;5;241m.\u001b[39mtolist())\n\u001b[1;32m   6009\u001b[0m     agg_obj \u001b[38;5;241m=\u001b[39m \u001b[38;5;28mself\u001b[39m\u001b[38;5;241m.\u001b[39mtake(indices, axis\u001b[38;5;241m=\u001b[39magg_axis)\n\u001b[1;32m   6011\u001b[0m \u001b[38;5;28;01mif\u001b[39;00m thresh \u001b[38;5;129;01mis\u001b[39;00m \u001b[38;5;129;01mnot\u001b[39;00m \u001b[38;5;28;01mNone\u001b[39;00m:\n",
      "\u001b[0;31mKeyError\u001b[0m: ['dance']"
     ]
    }
   ],
   "source": [
    "# Quite a few rows from tables that shouldn't be parsed (after end of week shows).  e.g. tributes.\n",
    "# Either fix in parsing or drop here.\n",
    "\n",
    "df.dropna(subset=['dance'], inplace=True)\n",
    "\n",
    "# df[df['dance'].isna()]\n",
    "\n"
   ]
  },
  {
   "cell_type": "code",
   "execution_count": null,
   "id": "56225ede-e30f-4bfb-8ee4-611fbd1b554f",
   "metadata": {},
   "outputs": [],
   "source": [
    "# season 22, week 8 has a very difficult judges score arrangement\n",
    "# https://en.wikipedia.org/wiki/Dancing_with_the_Stars_(American_season_22)#Week_8:_Judges'_Team-up_Challenge\n",
    "\n",
    "#  total (9, X, 9, 9) where the final score is \"america's score\" and the X is the score that would have been the score from the judge\n",
    "# in df['judge'] column.  gah.  but those are multi couple dances.  phew."
   ]
  },
  {
   "cell_type": "code",
   "execution_count": null,
   "id": "8ed499af-6ac3-4938-b7e2-255d68f663dc",
   "metadata": {},
   "outputs": [],
   "source": [
    "# editing on the pages made this moot.\n",
    "# Some couple columns have additional info which is in parens in the column. This creates an NA couple column.\n",
    "\n",
    "# pattern = r'(?P<couple_alone>.*?)\\((?P<additional>.*?)\\)$'\n",
    "\n",
    "# # e.g., https://en.wikipedia.org/wiki/Dancing_with_the_Stars_(American_season_27) Week 4.  Couple (Trio Dance Partner)\n",
    "# df[['couple_alone','trio_partner']] = df['couple_trio_dance_partner_'].str.extract(pattern)\n",
    "# df['couple'] = df['couple'].fillna(df['couple_alone'])\n",
    "# df.drop(columns='couple_alone', inplace=True)\n",
    "\n",
    "# # https://en.wikipedia.org/wiki/Dancing_with_the_Stars_(American_season_16) Week 5 (Professionals).\n",
    "# df[['couple_alone','additional_dancers']] = df['couple_professionals_'].str.extract(pattern)\n",
    "# df['couple'] = df['couple'].fillna(df['couple_alone'])\n",
    "# df.drop(columns='couple_alone', inplace=True)\n",
    "\n",
    "# # couple_team_up_judge_ from https://en.wikipedia.org/wiki/Dancing_with_the_Stars_(American_season_22)#Week_8:_Judges'_Team-up_Challenge\n",
    "# # Some of These are multi-couple dances, with a judge listed i the couple column, and then an X for the score that the judge that coached the team would have given.\n",
    "# # but others are regular dances (just a different column name)\n",
    "# df['couple'] = df['couple'].fillna(df['couple_team_up_judge_'])\n",
    "\n",
    "# # couple_judge_  from https://en.wikipedia.org/wiki/Dancing_with_the_Stars_(American_season_11)#Week_10:_Finals is much simpler (just a judge chosen dance).\n",
    "# df[['couple_alone','judge_choosing_dance']] = df['couple_judge_'].str.extract(pattern)\n",
    "# df['couple'] = df['couple'].fillna(df['couple_alone'])\n",
    "# df.drop(columns='couple_alone', inplace=True)\n",
    "\n",
    "# # One remains from the couple_judge_ due to a substitution which then didn't have a judge (so the regex above doesn't catch it)\n",
    "# # 2341 where the couple_judge_ is Nastia & Sasha[a]\n",
    "# df['couple'] = df['couple'].fillna(df['couple_judge_'])\n",
    "# # df.iloc[2341]\n",
    "\n",
    "# df.drop(columns=['couple_trio_dance_partner_', 'couple_professionals_', 'couple_judge_'], inplace=True)\n",
    "\n",
    "# df[df['couple'].isna()]"
   ]
  },
  {
   "cell_type": "code",
   "execution_count": null,
   "id": "71af2ceb-44c2-4d00-b588-290686a6cfc9",
   "metadata": {},
   "outputs": [],
   "source": [
    "# Some have technical_score and performance_score.\n",
    "# add a score_type column.\n",
    "# split these out, going to be two rows, each with scores column and a score_type column.\n",
    "\n",
    "double_scores = ( df[df['technical_scores'].notna()]\n",
    "                  .drop(columns=\"scores\")\n",
    "                  .dropna(axis = 1, how = \"all\") )\n",
    "\n",
    "val_cols = ['technical_scores','performance_scores']\n",
    "id_cols = [ele for ele in double_scores if ele not in val_cols]\n",
    "# now get two rows per\n",
    "double_scores = double_scores.melt(id_vars = id_cols, value_vars = val_cols, value_name = \"scores\", var_name = \"score_type\")\n",
    "\n",
    "single_scores = df.drop(df.index[df['technical_scores'].notna()])\n",
    "# make others be score_type\n",
    "single_scores['score_type'] = \"single_score\"\n",
    "single_scores.drop(columns=['technical_scores','performance_scores'], inplace=True)\n",
    "\n",
    "df_score_type = pd.concat([double_scores, single_scores])\n"
   ]
  },
  {
   "cell_type": "code",
   "execution_count": null,
   "id": "effc8368-49af-4f3f-b24b-df2a2b51c337",
   "metadata": {},
   "outputs": [],
   "source": [
    "df_score_type.head()"
   ]
  },
  {
   "cell_type": "code",
   "execution_count": null,
   "id": "40fdb70d-bbe1-486c-b33e-465b877a108d",
   "metadata": {},
   "outputs": [],
   "source": [
    "df_score_type[['total_score','indiv_scores']] = df_score_type['scores'].str.extract(r'(?P<total_score>\\d+)\\s\\((?P<indiv_scores>.*)\\)')\n",
    "\n",
    "# new_cols['judge_score_list'] = new_cols['indiv_scores'].str.split(\",\")\n",
    "\n",
    "\n",
    "# df_new = pd.concat([df, new_cols], axis = 1)"
   ]
  },
  {
   "cell_type": "code",
   "execution_count": null,
   "id": "729f0cb7-0647-4760-8e01-b8c635727b6d",
   "metadata": {},
   "outputs": [],
   "source": [
    "# song_cols = df['music'].str.extract(r'\"(?P<song_name>.*)\"—(?P<song_artist>.*)$')\n",
    "# song_cols\n",
    "# df[\"music\"].str.split(\" / \") Some music columns have multiples."
   ]
  },
  {
   "cell_type": "code",
   "execution_count": null,
   "id": "97417bf0-cf82-4f36-b40e-6e5a79547687",
   "metadata": {},
   "outputs": [],
   "source": []
  },
  {
   "cell_type": "code",
   "execution_count": null,
   "id": "3f5f6e1e-bc9f-4573-b311-9660ffeda218",
   "metadata": {},
   "outputs": [],
   "source": [
    "# most are multi couple dances, with ranking scores.\n",
    "\n",
    "df_score_type[\"couple_list\"] = df_score_type[\"couple\"].str.split(\"---\")\n",
    "df_score_type[\"couple_count\"] = df_score_type[\"couple_list\"].apply(len)"
   ]
  },
  {
   "cell_type": "code",
   "execution_count": null,
   "id": "f04efea1-fdf5-4334-aa26-573b2e42169e",
   "metadata": {},
   "outputs": [],
   "source": [
    "# Now eliminate multi-couple dances and dances with NA total scores (mostly dance offs and others). \n",
    "#  Might still be one or two issues with total scores but not individual scores.\n",
    "\n",
    "df_single_couple = df_score_type.loc[(df_score_type['couple_count'] == 1) & df_score_type['total_score'].notna() ].copy()\n",
    "\n",
    "# df_single_couple.head()\n",
    "\n"
   ]
  },
  {
   "cell_type": "code",
   "execution_count": null,
   "id": "c795053a-9259-4994-a5f5-371efecfa5db",
   "metadata": {},
   "outputs": [],
   "source": [
    "df_single_couple[df_single_couple['indiv_scores'].isna()]"
   ]
  },
  {
   "cell_type": "code",
   "execution_count": null,
   "id": "a65dcf34-3506-4e82-a763-dff2c3e3f1f1",
   "metadata": {},
   "outputs": [],
   "source": [
    "# df_single_couple.head()\n",
    "\n",
    "df_single_couple['judge_score_list'] = df_single_couple['indiv_scores'].str.split(\", \")\n",
    "\n",
    "# df_single_couple['judge_score_list']\n",
    "df_single_couple['judge_score_count'] = df_single_couple['judge_score_list'].apply(len)\n",
    "\n",
    "df_single_couple['judge_count'] = df_single_couple['judge'].apply(len)\n",
    "\n",
    "\n",
    "# a few have a total score, but not an individual score.  e.g., s9w10."
   ]
  },
  {
   "cell_type": "code",
   "execution_count": null,
   "id": "1f4b04a2-c78e-48c8-9064-8367e6e52a0e",
   "metadata": {},
   "outputs": [],
   "source": [
    "#pd.set_option('max_colwidth', None) \n",
    "#df_single_couple[df_single_couple['season'] == 31][['week','judge_phrase']]"
   ]
  },
  {
   "cell_type": "code",
   "execution_count": null,
   "id": "79251523-2af5-40f7-882f-051d07769184",
   "metadata": {},
   "outputs": [],
   "source": [
    "df_single_couple.loc[df_single_couple['judge_score_count'] != df_single_couple['judge_count']]\n",
    "\n",
    "# Trouble in \n",
    "# https://en.wikipedia.org/wiki/Dancing_with_the_Stars_(American_season_23)#Week_5:_Most_Memorable_Year_Night\n",
    "# https://en.wikipedia.org/wiki/Dancing_with_the_Stars_(American_season_31)#Week_6:_Michael_Bubl%C3%A9_Night"
   ]
  },
  {
   "cell_type": "code",
   "execution_count": null,
   "id": "99824747-9954-431f-a4d1-c7fb2a6f908c",
   "metadata": {},
   "outputs": [],
   "source": [
    "# df_single_couple[df_single_couple['dance_id'] == 2467]"
   ]
  },
  {
   "cell_type": "code",
   "execution_count": null,
   "id": "37683ff5-da9c-4a5f-b288-c94271d5b894",
   "metadata": {},
   "outputs": [],
   "source": [
    "df_final = ( df_single_couple\n",
    "              #  .head(5)\n",
    "               .explode(['judge','judge_score_list'])\n",
    "               .rename(columns={'judge_score_list': 'judge_score'})\n",
    "               .drop(columns=['indiv_scores','judge_phrase','scores'])\n",
    "               .assign(judge = lambda df: df.judge.str.strip(\" .\"))\n",
    ")\n",
    "\n",
    "df_final.drop( df_final.query(\" judge_score == 'X' \").index, inplace = True)\n",
    "\n",
    "df_final['judge_score_id'] = np.arange(df_final.shape[0])"
   ]
  },
  {
   "cell_type": "code",
   "execution_count": null,
   "id": "84af39ae-2e1a-429b-9978-b57842bfec16",
   "metadata": {},
   "outputs": [],
   "source": [
    "# rename \"Guest judge\" with value from df_final['guest_judge']\n",
    "df_final['judge'] = np.where(df_final['judge'] == 'Guest judge', df_final['guest_judge'], df_final['judge'])\n",
    "\n",
    "# fix Julianne Hough (Night 1 only)\n",
    "df_final['judge'] = np.where(df_final['judge'] == 'Julianne Hough (Night 1 only)', 'Julianne Hough', df_final['judge'])\n",
    "\n",
    "# sorted(df_final['judge'].unique().tolist())"
   ]
  },
  {
   "cell_type": "code",
   "execution_count": null,
   "id": "c0d83ab8-cc93-4489-9bcd-d9c98f2321a9",
   "metadata": {},
   "outputs": [],
   "source": [
    "# df_final[df_final['judge_score'] == '2']"
   ]
  },
  {
   "cell_type": "code",
   "execution_count": null,
   "id": "4db3cb57-3dba-40e7-aab9-ee6f1b238c9e",
   "metadata": {},
   "outputs": [],
   "source": [
    "sorted(df_final['judge_score'].unique().tolist())"
   ]
  },
  {
   "cell_type": "code",
   "execution_count": null,
   "id": "19c2f76b-b4c2-4dc3-b793-42b90fc81b15",
   "metadata": {},
   "outputs": [],
   "source": [
    "# df_final[df_final['judge_score'] == 'X']\n",
    "\n"
   ]
  },
  {
   "cell_type": "code",
   "execution_count": null,
   "id": "5d2b9f61-7006-46fa-a586-5b4bcc97e486",
   "metadata": {},
   "outputs": [],
   "source": [
    "# df_final[df_final['judge_score'] == 'X']"
   ]
  },
  {
   "cell_type": "code",
   "execution_count": null,
   "id": "5c55a715-a6c3-45fd-aa60-e5f8dac4a406",
   "metadata": {},
   "outputs": [],
   "source": [
    "all_cols = df_final.columns.values.tolist()\n",
    "\n",
    "to_remove = ['judge_excluded', 'couple_list', 'couple_count', 'judge_score_count', 'judge_count']\n",
    "\n",
    "all_cols = [ele for ele in all_cols if ele not in to_remove]\n",
    "\n",
    "front_cols = [ 'judge_score_id', 'judge','judge_score', 'performance_id','season','week','couple','dance','music','total_score' ]\n",
    "\n",
    "remaining_cols = [ele for ele in all_cols if ele not in front_cols]\n",
    "\n",
    "reordered = front_cols + remaining_cols"
   ]
  },
  {
   "cell_type": "code",
   "execution_count": null,
   "id": "527f9ce3-45fc-4180-aa9a-2bef71a7bc35",
   "metadata": {},
   "outputs": [],
   "source": [
    "df_final = df_final[reordered]"
   ]
  },
  {
   "cell_type": "code",
   "execution_count": 576,
   "id": "c78c6077-3deb-46cf-8eb3-a37f0b0ca3f5",
   "metadata": {},
   "outputs": [],
   "source": [
    "df_final.to_csv(\"dwts_dataset.csv\", index = False)"
   ]
  },
  {
   "cell_type": "code",
   "execution_count": 577,
   "id": "9d967471-e5de-49b6-a003-261dd73d401c",
   "metadata": {},
   "outputs": [
    {
     "data": {
      "text/plain": [
       "Index(['judge_score_id', 'judge', 'judge_score', 'performance_id', 'season',\n",
       "       'week', 'couple', 'dance', 'music', 'total_score', 'result',\n",
       "       'week_title', 'week_theme', 'score_type', 'elvis_music', 'film_theme',\n",
       "       'film', 'original_couple', 'james_bond_film', 'disney_film', 'mentor',\n",
       "       'classical_music', 'music_by_britney_spears', 'tv_show',\n",
       "       'dance_chosen_by', 'television_show', 'film_series', 'professionals',\n",
       "       'broadway_show', 'trio_dance_partner', 'motown_music',\n",
       "       'stevie_wonder_music', 'team_captain', 'era', 'guest_judge',\n",
       "       'music_from_grease', 'dynamic_duo', 'genre', 'horror_film_show',\n",
       "       'villain', 'trio_partner', 'icons', 'cher_music', 'icon',\n",
       "       'michael_buble_music', 'music_by_queen', 'dance_&_theme',\n",
       "       'music_by_janet_jackson', 'cirque_du_soleil_show', 'musical'],\n",
       "      dtype='object')"
      ]
     },
     "execution_count": 577,
     "metadata": {},
     "output_type": "execute_result"
    }
   ],
   "source": [
    "df_final.columns"
   ]
  },
  {
   "cell_type": "code",
   "execution_count": null,
   "id": "c1fefa58-48fd-4ae1-8947-c389bc498f3c",
   "metadata": {},
   "outputs": [],
   "source": [
    "# Produce tables\n",
    "\n",
    "performances (id, song_id, dance_style_id, couple_id, season_id, week_id)\n",
    "dance_styles (id, name) \n",
    "songs (id, name, artist_id)\n",
    "artists (id, name)\n",
    "scores (id, performance_id, judge_id, score)\n",
    "              \n",
    "couples (id, couple_na# maybe.\n",
    "people # Note that some work needed to match up couples to people.\n"
   ]
  }
 ],
 "metadata": {
  "kernelspec": {
   "display_name": "Python 3 (ipykernel)",
   "language": "python",
   "name": "python3"
  },
  "language_info": {
   "codemirror_mode": {
    "name": "ipython",
    "version": 3
   },
   "file_extension": ".py",
   "mimetype": "text/x-python",
   "name": "python",
   "nbconvert_exporter": "python",
   "pygments_lexer": "ipython3",
   "version": "3.10.5"
  }
 },
 "nbformat": 4,
 "nbformat_minor": 5
}
